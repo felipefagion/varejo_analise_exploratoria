{
 "cells": [
  {
   "cell_type": "markdown",
   "metadata": {},
   "source": [
    "# 📈 Análise de Desempenho e Estratégias no Varejo\n"
   ]
  },
  {
   "cell_type": "markdown",
   "metadata": {},
   "source": [
    "## Definição do Problema"
   ]
  },
  {
   "cell_type": "markdown",
   "metadata": {},
   "source": [
    "\n",
    "A empresa enfrenta desafios significativos que comprometem sua sustentabilidade e crescimento futuro, evidenciados por produtos com prejuízo, queda nas vendas de eletrônicos e eletroportáteis, e uma redução acentuada nas vendas em 2014. Essas questões podem indicar falhas na gestão de margens de lucro, na estratégia de preços e nas abordagens de marketing, além de uma possível desconexão com as tendências do mercado e condições econômicas.\n"
   ]
  },
  {
   "cell_type": "markdown",
   "metadata": {},
   "source": [
    "## Objetivo"
   ]
  },
  {
   "cell_type": "markdown",
   "metadata": {},
   "source": [
    "O objetivo deste projeto é realizar uma análise detalhada dos dados da empresa para identificar as causas subjacentes dos problemas mencionados. Através da reavaliação da estrutura de custos, análise da concorrência, e revisão das estratégias de marketing, buscamos:"
   ]
  },
  {
   "cell_type": "markdown",
   "metadata": {},
   "source": [
    "## Importação de bibliotecas"
   ]
  },
  {
   "cell_type": "code",
   "execution_count": 54,
   "metadata": {},
   "outputs": [],
   "source": [
    "#visualização de dados.\n",
    "import matplotlib.pyplot as plt\n",
    "import plotly.express as px\n",
    "import plotly.graph_objects as go\n",
    "\n",
    "#Manipulação e analise de dados.\n",
    "import pandas as pd\n",
    "import numpy as np\n"
   ]
  },
  {
   "cell_type": "markdown",
   "metadata": {},
   "source": [
    "## Carregando Dataframe"
   ]
  },
  {
   "cell_type": "code",
   "execution_count": 55,
   "metadata": {},
   "outputs": [],
   "source": [
    "#Carregando dataframe.\n",
    "df= pd.read_excel(\"dados_comerciais.xlsx\")"
   ]
  },
  {
   "cell_type": "markdown",
   "metadata": {},
   "source": [
    "## Funções"
   ]
  },
  {
   "cell_type": "code",
   "execution_count": 56,
   "metadata": {},
   "outputs": [],
   "source": [
    "def converter_tipo(df, cols, tipo):\n",
    "    for col in cols:\n",
    "        if col in df.columns:\n",
    "            df[col] = df[col].astype(tipo)\n",
    "        else:\n",
    "            raise ValueError(f\"A coluna '{col}' não existe no DataFrame.\")\n",
    "    return df\n"
   ]
  },
  {
   "cell_type": "markdown",
   "metadata": {},
   "source": [
    "## Analise Exploratória"
   ]
  },
  {
   "cell_type": "code",
   "execution_count": 57,
   "metadata": {},
   "outputs": [
    {
     "data": {
      "text/html": [
       "<div>\n",
       "<style scoped>\n",
       "    .dataframe tbody tr th:only-of-type {\n",
       "        vertical-align: middle;\n",
       "    }\n",
       "\n",
       "    .dataframe tbody tr th {\n",
       "        vertical-align: top;\n",
       "    }\n",
       "\n",
       "    .dataframe thead th {\n",
       "        text-align: right;\n",
       "    }\n",
       "</style>\n",
       "<table border=\"1\" class=\"dataframe\">\n",
       "  <thead>\n",
       "    <tr style=\"text-align: right;\">\n",
       "      <th></th>\n",
       "      <th>ID-Produto</th>\n",
       "      <th>Produto</th>\n",
       "      <th>Categoria</th>\n",
       "      <th>Segmento</th>\n",
       "      <th>Fabricante</th>\n",
       "      <th>Loja</th>\n",
       "      <th>Cidade</th>\n",
       "      <th>Estado</th>\n",
       "      <th>Vendedor</th>\n",
       "      <th>ID-Vendedor</th>\n",
       "      <th>Data Venda</th>\n",
       "      <th>ValorVenda</th>\n",
       "      <th>Custo</th>\n",
       "    </tr>\n",
       "  </thead>\n",
       "  <tbody>\n",
       "    <tr>\n",
       "      <th>0</th>\n",
       "      <td>SKU-0000001</td>\n",
       "      <td>LG K10 TV Power</td>\n",
       "      <td>Celulares</td>\n",
       "      <td>Corporativo</td>\n",
       "      <td>LG</td>\n",
       "      <td>SP8821</td>\n",
       "      <td>São Paulo</td>\n",
       "      <td>São Paulo</td>\n",
       "      <td>Ana Teixeira</td>\n",
       "      <td>1009</td>\n",
       "      <td>2012-10-04</td>\n",
       "      <td>679.00</td>\n",
       "      <td>345</td>\n",
       "    </tr>\n",
       "    <tr>\n",
       "      <th>1</th>\n",
       "      <td>SKU-0000002</td>\n",
       "      <td>Geladeira Duplex</td>\n",
       "      <td>Eletrodomésticos</td>\n",
       "      <td>Doméstico</td>\n",
       "      <td>Brastemp</td>\n",
       "      <td>SP8821</td>\n",
       "      <td>São Paulo</td>\n",
       "      <td>São Paulo</td>\n",
       "      <td>Josias Silva</td>\n",
       "      <td>1006</td>\n",
       "      <td>2012-01-01</td>\n",
       "      <td>832.00</td>\n",
       "      <td>712</td>\n",
       "    </tr>\n",
       "    <tr>\n",
       "      <th>2</th>\n",
       "      <td>SKU-0000003</td>\n",
       "      <td>Lavadora 11 Kg</td>\n",
       "      <td>Eletrodomésticos</td>\n",
       "      <td>Doméstico</td>\n",
       "      <td>Brastemp</td>\n",
       "      <td>SP8821</td>\n",
       "      <td>São Paulo</td>\n",
       "      <td>São Paulo</td>\n",
       "      <td>Josias Silva</td>\n",
       "      <td>1006</td>\n",
       "      <td>2012-02-02</td>\n",
       "      <td>790.00</td>\n",
       "      <td>390</td>\n",
       "    </tr>\n",
       "    <tr>\n",
       "      <th>3</th>\n",
       "      <td>SKU-0000004</td>\n",
       "      <td>Lavadora 11 Kg</td>\n",
       "      <td>Eletrodomésticos</td>\n",
       "      <td>Doméstico</td>\n",
       "      <td>Brastemp</td>\n",
       "      <td>SP8821</td>\n",
       "      <td>São Paulo</td>\n",
       "      <td>São Paulo</td>\n",
       "      <td>Mateus Gonçalves</td>\n",
       "      <td>1003</td>\n",
       "      <td>2012-03-03</td>\n",
       "      <td>765.32</td>\n",
       "      <td>200</td>\n",
       "    </tr>\n",
       "    <tr>\n",
       "      <th>4</th>\n",
       "      <td>SKU-0000005</td>\n",
       "      <td>Lavadora 11 Kg</td>\n",
       "      <td>Eletrodomésticos</td>\n",
       "      <td>Doméstico</td>\n",
       "      <td>Electrolux</td>\n",
       "      <td>SP8821</td>\n",
       "      <td>São Paulo</td>\n",
       "      <td>São Paulo</td>\n",
       "      <td>Artur Moreira</td>\n",
       "      <td>1004</td>\n",
       "      <td>2012-04-04</td>\n",
       "      <td>459.89</td>\n",
       "      <td>234</td>\n",
       "    </tr>\n",
       "  </tbody>\n",
       "</table>\n",
       "</div>"
      ],
      "text/plain": [
       "    ID-Produto           Produto         Categoria     Segmento  Fabricante  \\\n",
       "0  SKU-0000001   LG K10 TV Power         Celulares  Corporativo          LG   \n",
       "1  SKU-0000002  Geladeira Duplex  Eletrodomésticos    Doméstico    Brastemp   \n",
       "2  SKU-0000003    Lavadora 11 Kg  Eletrodomésticos    Doméstico    Brastemp   \n",
       "3  SKU-0000004    Lavadora 11 Kg  Eletrodomésticos    Doméstico    Brastemp   \n",
       "4  SKU-0000005    Lavadora 11 Kg  Eletrodomésticos    Doméstico  Electrolux   \n",
       "\n",
       "     Loja     Cidade     Estado          Vendedor  ID-Vendedor Data Venda  \\\n",
       "0  SP8821  São Paulo  São Paulo      Ana Teixeira         1009 2012-10-04   \n",
       "1  SP8821  São Paulo  São Paulo      Josias Silva         1006 2012-01-01   \n",
       "2  SP8821  São Paulo  São Paulo      Josias Silva         1006 2012-02-02   \n",
       "3  SP8821  São Paulo  São Paulo  Mateus Gonçalves         1003 2012-03-03   \n",
       "4  SP8821  São Paulo  São Paulo     Artur Moreira         1004 2012-04-04   \n",
       "\n",
       "   ValorVenda  Custo  \n",
       "0      679.00    345  \n",
       "1      832.00    712  \n",
       "2      790.00    390  \n",
       "3      765.32    200  \n",
       "4      459.89    234  "
      ]
     },
     "execution_count": 57,
     "metadata": {},
     "output_type": "execute_result"
    }
   ],
   "source": [
    "#cinco primeiras linhas\n",
    "df.head()"
   ]
  },
  {
   "cell_type": "code",
   "execution_count": 58,
   "metadata": {},
   "outputs": [
    {
     "data": {
      "text/plain": [
       "Index(['ID-Produto', 'Produto', 'Categoria', 'Segmento', 'Fabricante', 'Loja',\n",
       "       'Cidade', 'Estado', 'Vendedor', 'ID-Vendedor', 'Data Venda',\n",
       "       'ValorVenda', 'Custo'],\n",
       "      dtype='object')"
      ]
     },
     "execution_count": 58,
     "metadata": {},
     "output_type": "execute_result"
    }
   ],
   "source": [
    "#Colunas\n",
    "df.columns"
   ]
  },
  {
   "cell_type": "code",
   "execution_count": 59,
   "metadata": {},
   "outputs": [
    {
     "data": {
      "text/plain": [
       "(457, 13)"
      ]
     },
     "execution_count": 59,
     "metadata": {},
     "output_type": "execute_result"
    }
   ],
   "source": [
    "#Número de linhas e colunas\n",
    "df.shape"
   ]
  },
  {
   "cell_type": "markdown",
   "metadata": {},
   "source": [
    "### Verificando quantidade de linhas e colunas, tamanho dos arquivos e os tipos de dados inteiros(int), decimais(float64), data(datetime64), etc...)."
   ]
  },
  {
   "cell_type": "code",
   "execution_count": 60,
   "metadata": {},
   "outputs": [
    {
     "name": "stdout",
     "output_type": "stream",
     "text": [
      "<class 'pandas.core.frame.DataFrame'>\n",
      "RangeIndex: 457 entries, 0 to 456\n",
      "Data columns (total 13 columns):\n",
      " #   Column       Non-Null Count  Dtype         \n",
      "---  ------       --------------  -----         \n",
      " 0   ID-Produto   457 non-null    object        \n",
      " 1   Produto      457 non-null    object        \n",
      " 2   Categoria    457 non-null    object        \n",
      " 3   Segmento     457 non-null    object        \n",
      " 4   Fabricante   457 non-null    object        \n",
      " 5   Loja         457 non-null    object        \n",
      " 6   Cidade       457 non-null    object        \n",
      " 7   Estado       457 non-null    object        \n",
      " 8   Vendedor     457 non-null    object        \n",
      " 9   ID-Vendedor  457 non-null    int64         \n",
      " 10  Data Venda   457 non-null    datetime64[ns]\n",
      " 11  ValorVenda   457 non-null    float64       \n",
      " 12  Custo        457 non-null    int64         \n",
      "dtypes: datetime64[ns](1), float64(1), int64(2), object(9)\n",
      "memory usage: 46.5+ KB\n"
     ]
    }
   ],
   "source": [
    "#Dtype, linhas, colunas.\n",
    "df.info()"
   ]
  },
  {
   "cell_type": "markdown",
   "metadata": {},
   "source": [
    "### Criando coluna de Margem de lucro em busca em busca de Insights.A margem de lucro serve para a empresa garantir se mantenha viável no longo prazo. Ela é fundamental na hora de formar o preço de venda do produto e deve balancear os custos de produção."
   ]
  },
  {
   "cell_type": "code",
   "execution_count": 61,
   "metadata": {},
   "outputs": [],
   "source": [
    "#Nova coluna\n",
    "df[\"margem_lucro(%)\"] = (df[\"ValorVenda\"] - df[\"Custo\"]) / df[\"ValorVenda\"] * 100"
   ]
  },
  {
   "cell_type": "markdown",
   "metadata": {},
   "source": [
    "### Irei transformar o \"custo\" em valor decimal(float64). Isso simplificará a manipulação dos dados, considerando que estamos trabalhando com valores monetários."
   ]
  },
  {
   "cell_type": "code",
   "execution_count": 62,
   "metadata": {},
   "outputs": [
    {
     "name": "stdout",
     "output_type": "stream",
     "text": [
      "float64\n"
     ]
    }
   ],
   "source": [
    "df = converter_tipo(df, ['Custo'], float)\n",
    "\n",
    "# Checando se reconheceu como float\n",
    "print(df[\"Custo\"].dtype)"
   ]
  },
  {
   "cell_type": "code",
   "execution_count": 63,
   "metadata": {},
   "outputs": [
    {
     "name": "stdout",
     "output_type": "stream",
     "text": [
      "Primeiro registro de vendas foi em 01/01/2012\n",
      "A última venda foi em 02/12/2015\n"
     ]
    }
   ],
   "source": [
    "# Primeiro registro de vendas\n",
    "inicio = df['Data Venda'].min().strftime('%d/%m/%Y')\n",
    "print(f'Primeiro registro de vendas foi em {inicio}')\n",
    "\n",
    "# Último registro de vendas\n",
    "termino = df['Data Venda'].dt.date.max().strftime('%d/%m/%Y')\n",
    "print(f'A última venda foi em {termino}')"
   ]
  },
  {
   "cell_type": "markdown",
   "metadata": {},
   "source": [
    "### Como podemos ver abaixo temos um desvio padrão muito alto na coluna de lucro e valor venda. Também temos um número negativo em \"Lucro\", duas situações que merecem uma atenção maior..."
   ]
  },
  {
   "cell_type": "code",
   "execution_count": 64,
   "metadata": {},
   "outputs": [
    {
     "data": {
      "text/html": [
       "<div>\n",
       "<style scoped>\n",
       "    .dataframe tbody tr th:only-of-type {\n",
       "        vertical-align: middle;\n",
       "    }\n",
       "\n",
       "    .dataframe tbody tr th {\n",
       "        vertical-align: top;\n",
       "    }\n",
       "\n",
       "    .dataframe thead th {\n",
       "        text-align: right;\n",
       "    }\n",
       "</style>\n",
       "<table border=\"1\" class=\"dataframe\">\n",
       "  <thead>\n",
       "    <tr style=\"text-align: right;\">\n",
       "      <th></th>\n",
       "      <th>ValorVenda</th>\n",
       "      <th>Custo</th>\n",
       "      <th>margem_lucro(%)</th>\n",
       "    </tr>\n",
       "  </thead>\n",
       "  <tbody>\n",
       "    <tr>\n",
       "      <th>count</th>\n",
       "      <td>457.00</td>\n",
       "      <td>457.00</td>\n",
       "      <td>457.00</td>\n",
       "    </tr>\n",
       "    <tr>\n",
       "      <th>mean</th>\n",
       "      <td>786.23</td>\n",
       "      <td>132.75</td>\n",
       "      <td>60.44</td>\n",
       "    </tr>\n",
       "    <tr>\n",
       "      <th>std</th>\n",
       "      <td>754.38</td>\n",
       "      <td>83.52</td>\n",
       "      <td>55.75</td>\n",
       "    </tr>\n",
       "    <tr>\n",
       "      <th>min</th>\n",
       "      <td>12.00</td>\n",
       "      <td>90.00</td>\n",
       "      <td>-900.00</td>\n",
       "    </tr>\n",
       "    <tr>\n",
       "      <th>25%</th>\n",
       "      <td>167.00</td>\n",
       "      <td>120.00</td>\n",
       "      <td>28.14</td>\n",
       "    </tr>\n",
       "    <tr>\n",
       "      <th>50%</th>\n",
       "      <td>671.00</td>\n",
       "      <td>120.00</td>\n",
       "      <td>78.84</td>\n",
       "    </tr>\n",
       "    <tr>\n",
       "      <th>75%</th>\n",
       "      <td>1230.00</td>\n",
       "      <td>120.00</td>\n",
       "      <td>90.24</td>\n",
       "    </tr>\n",
       "    <tr>\n",
       "      <th>max</th>\n",
       "      <td>3999.00</td>\n",
       "      <td>800.00</td>\n",
       "      <td>97.00</td>\n",
       "    </tr>\n",
       "  </tbody>\n",
       "</table>\n",
       "</div>"
      ],
      "text/plain": [
       "       ValorVenda   Custo  margem_lucro(%)\n",
       "count      457.00  457.00           457.00\n",
       "mean       786.23  132.75            60.44\n",
       "std        754.38   83.52            55.75\n",
       "min         12.00   90.00          -900.00\n",
       "25%        167.00  120.00            28.14\n",
       "50%        671.00  120.00            78.84\n",
       "75%       1230.00  120.00            90.24\n",
       "max       3999.00  800.00            97.00"
      ]
     },
     "execution_count": 64,
     "metadata": {},
     "output_type": "execute_result"
    }
   ],
   "source": [
    "#Função describe.\n",
    "df[[\"ValorVenda\",\"Custo\", \"margem_lucro(%)\"]].describe().round(2)"
   ]
  },
  {
   "cell_type": "code",
   "execution_count": 65,
   "metadata": {},
   "outputs": [
    {
     "data": {
      "text/plain": [
       "433   -900.0\n",
       "Name: margem_lucro(%), dtype: float64"
      ]
     },
     "execution_count": 65,
     "metadata": {},
     "output_type": "execute_result"
    }
   ],
   "source": [
    "#Indentificando números de prejuízos.\n",
    "df[\"margem_lucro(%)\"][lambda x: x< 0]"
   ]
  },
  {
   "cell_type": "markdown",
   "metadata": {},
   "source": [
    "## Mais informações sobre o produto que deu prejuízo "
   ]
  },
  {
   "cell_type": "code",
   "execution_count": 66,
   "metadata": {},
   "outputs": [
    {
     "name": "stdout",
     "output_type": "stream",
     "text": [
      "      ID-Produto     Produto        Categoria   Segmento Fabricante   Loja  \\\n",
      "433  SKU-0000434  Ventilador  Eletroportáteis  Doméstico    Samsung  R1297   \n",
      "\n",
      "         Cidade          Estado       Vendedor  ID-Vendedor Data Venda  \\\n",
      "433  Petrópolis  Rio de Janeiro  Artur Moreira         1004 2015-08-02   \n",
      "\n",
      "     ValorVenda  Custo  margem_lucro(%)  \n",
      "433        12.0  120.0           -900.0  \n"
     ]
    }
   ],
   "source": [
    "#Podendo indentificar o produto, fabricante, a loja, o vendedor, etc...Com função lambda.\n",
    "df.apply(lambda row: row[\"Custo\"] - row[\"ValorVenda\"], axis=1)\n",
    "prejuizos = df[df[\"margem_lucro(%)\"] < 0]\n",
    "print(prejuizos)"
   ]
  },
  {
   "cell_type": "markdown",
   "metadata": {},
   "source": [
    "### A margem de lucro está totalmente desbalanceada, confirmando o que a descrição das estatísticas já tinha revelado."
   ]
  },
  {
   "cell_type": "code",
   "execution_count": 67,
   "metadata": {},
   "outputs": [
    {
     "data": {
      "text/html": [
       "<div>\n",
       "<style scoped>\n",
       "    .dataframe tbody tr th:only-of-type {\n",
       "        vertical-align: middle;\n",
       "    }\n",
       "\n",
       "    .dataframe tbody tr th {\n",
       "        vertical-align: top;\n",
       "    }\n",
       "\n",
       "    .dataframe thead th {\n",
       "        text-align: right;\n",
       "    }\n",
       "</style>\n",
       "<table border=\"1\" class=\"dataframe\">\n",
       "  <thead>\n",
       "    <tr style=\"text-align: right;\">\n",
       "      <th></th>\n",
       "      <th>Produto</th>\n",
       "      <th>margem_lucro(%)</th>\n",
       "      <th>ValorVenda</th>\n",
       "    </tr>\n",
       "  </thead>\n",
       "  <tbody>\n",
       "    <tr>\n",
       "      <th>16</th>\n",
       "      <td>Samsung Galaxy 8</td>\n",
       "      <td>96.79</td>\n",
       "      <td>3867.75</td>\n",
       "    </tr>\n",
       "    <tr>\n",
       "      <th>14</th>\n",
       "      <td>Notebook Dell 8 GB</td>\n",
       "      <td>90.63</td>\n",
       "      <td>1282.35</td>\n",
       "    </tr>\n",
       "    <tr>\n",
       "      <th>13</th>\n",
       "      <td>Morotola Moto G5</td>\n",
       "      <td>90.12</td>\n",
       "      <td>1218.62</td>\n",
       "    </tr>\n",
       "    <tr>\n",
       "      <th>0</th>\n",
       "      <td>Ar Condicionado</td>\n",
       "      <td>89.22</td>\n",
       "      <td>1217.17</td>\n",
       "    </tr>\n",
       "    <tr>\n",
       "      <th>3</th>\n",
       "      <td>Desktop HP 16 GB</td>\n",
       "      <td>89.02</td>\n",
       "      <td>1210.50</td>\n",
       "    </tr>\n",
       "    <tr>\n",
       "      <th>2</th>\n",
       "      <td>Desktop 32 GB</td>\n",
       "      <td>86.31</td>\n",
       "      <td>972.41</td>\n",
       "    </tr>\n",
       "    <tr>\n",
       "      <th>18</th>\n",
       "      <td>Sony Experia XA</td>\n",
       "      <td>82.83</td>\n",
       "      <td>699.00</td>\n",
       "    </tr>\n",
       "    <tr>\n",
       "      <th>6</th>\n",
       "      <td>Geladeira Duplex</td>\n",
       "      <td>82.69</td>\n",
       "      <td>1094.38</td>\n",
       "    </tr>\n",
       "    <tr>\n",
       "      <th>10</th>\n",
       "      <td>Lavadora 11 Kg</td>\n",
       "      <td>80.64</td>\n",
       "      <td>819.36</td>\n",
       "    </tr>\n",
       "    <tr>\n",
       "      <th>17</th>\n",
       "      <td>Secadora Vapor</td>\n",
       "      <td>77.14</td>\n",
       "      <td>664.68</td>\n",
       "    </tr>\n",
       "    <tr>\n",
       "      <th>8</th>\n",
       "      <td>Impressora Deskjet</td>\n",
       "      <td>76.20</td>\n",
       "      <td>581.66</td>\n",
       "    </tr>\n",
       "    <tr>\n",
       "      <th>12</th>\n",
       "      <td>Micro-Ondas</td>\n",
       "      <td>69.55</td>\n",
       "      <td>513.36</td>\n",
       "    </tr>\n",
       "    <tr>\n",
       "      <th>4</th>\n",
       "      <td>Forno-Micro-Ondas</td>\n",
       "      <td>67.87</td>\n",
       "      <td>600.07</td>\n",
       "    </tr>\n",
       "    <tr>\n",
       "      <th>9</th>\n",
       "      <td>LG K10 TV Power</td>\n",
       "      <td>49.19</td>\n",
       "      <td>679.00</td>\n",
       "    </tr>\n",
       "    <tr>\n",
       "      <th>7</th>\n",
       "      <td>Grill</td>\n",
       "      <td>30.95</td>\n",
       "      <td>211.00</td>\n",
       "    </tr>\n",
       "    <tr>\n",
       "      <th>1</th>\n",
       "      <td>Aspirador</td>\n",
       "      <td>21.16</td>\n",
       "      <td>170.06</td>\n",
       "    </tr>\n",
       "    <tr>\n",
       "      <th>15</th>\n",
       "      <td>Processador de Alimentos</td>\n",
       "      <td>19.46</td>\n",
       "      <td>149.00</td>\n",
       "    </tr>\n",
       "    <tr>\n",
       "      <th>11</th>\n",
       "      <td>Liquidificador</td>\n",
       "      <td>14.80</td>\n",
       "      <td>142.00</td>\n",
       "    </tr>\n",
       "    <tr>\n",
       "      <th>5</th>\n",
       "      <td>Fritadeira</td>\n",
       "      <td>6.73</td>\n",
       "      <td>133.75</td>\n",
       "    </tr>\n",
       "    <tr>\n",
       "      <th>19</th>\n",
       "      <td>Ventilador</td>\n",
       "      <td>-29.13</td>\n",
       "      <td>133.36</td>\n",
       "    </tr>\n",
       "  </tbody>\n",
       "</table>\n",
       "</div>"
      ],
      "text/plain": [
       "                     Produto  margem_lucro(%)  ValorVenda\n",
       "16          Samsung Galaxy 8            96.79     3867.75\n",
       "14        Notebook Dell 8 GB            90.63     1282.35\n",
       "13          Morotola Moto G5            90.12     1218.62\n",
       "0            Ar Condicionado            89.22     1217.17\n",
       "3           Desktop HP 16 GB            89.02     1210.50\n",
       "2              Desktop 32 GB            86.31      972.41\n",
       "18           Sony Experia XA            82.83      699.00\n",
       "6           Geladeira Duplex            82.69     1094.38\n",
       "10            Lavadora 11 Kg            80.64      819.36\n",
       "17            Secadora Vapor            77.14      664.68\n",
       "8         Impressora Deskjet            76.20      581.66\n",
       "12               Micro-Ondas            69.55      513.36\n",
       "4          Forno-Micro-Ondas            67.87      600.07\n",
       "9            LG K10 TV Power            49.19      679.00\n",
       "7                      Grill            30.95      211.00\n",
       "1                  Aspirador            21.16      170.06\n",
       "15  Processador de Alimentos            19.46      149.00\n",
       "11            Liquidificador            14.80      142.00\n",
       "5                 Fritadeira             6.73      133.75\n",
       "19                Ventilador           -29.13      133.36"
      ]
     },
     "execution_count": 67,
     "metadata": {},
     "output_type": "execute_result"
    }
   ],
   "source": [
    "#Agrupando produto por valorvenda e margem de lucro\n",
    "df.groupby(\"Produto\").agg({\"margem_lucro(%)\": \"mean\", \"ValorVenda\": \"mean\"}).reset_index().sort_values(by=\"margem_lucro(%)\", ascending=False).round(2)\n"
   ]
  },
  {
   "cell_type": "markdown",
   "metadata": {},
   "source": [
    "- Com o gráfico de caixa, podemos ter uma análise mais profunda e com facil interpretação, visualização de dispersão, comparação de grupos e possíveis identificação de outliers.\n",
    "- 1- Abaixo no gráfico de caixas podemos verificar que o custo de alguns produtos estão altos e desbalanceados. Uma indetificação mais preocupante ainda é que tem um ou mais produto abaixo da linha de zero em \"Lucro\"."
   ]
  },
  {
   "cell_type": "code",
   "execution_count": 71,
   "metadata": {},
   "outputs": [
    {
     "data": {
      "application/vnd.plotly.v1+json": {
       "config": {
        "plotlyServerURL": "https://plot.ly"
       },
       "data": [
        {
         "name": "Custo",
         "type": "box",
         "y": [
          345,
          712,
          390,
          200,
          234,
          90,
          134,
          800,
          400,
          600,
          560,
          790,
          790,
          790,
          790,
          120,
          120,
          120,
          120,
          120,
          120,
          120,
          120,
          120,
          120,
          120,
          120,
          120,
          120,
          120,
          120,
          120,
          120,
          120,
          120,
          120,
          120,
          120,
          120,
          120,
          120,
          120,
          120,
          120,
          120,
          120,
          120,
          120,
          120,
          120,
          120,
          120,
          120,
          120,
          120,
          120,
          120,
          120,
          120,
          120,
          120,
          120,
          120,
          120,
          120,
          120,
          120,
          120,
          120,
          120,
          120,
          120,
          120,
          120,
          120,
          120,
          120,
          120,
          120,
          120,
          120,
          120,
          120,
          120,
          120,
          120,
          120,
          120,
          120,
          120,
          120,
          120,
          120,
          120,
          120,
          120,
          120,
          120,
          120,
          120,
          120,
          120,
          120,
          120,
          120,
          120,
          120,
          120,
          120,
          120,
          120,
          120,
          120,
          120,
          120,
          120,
          120,
          120,
          120,
          120,
          120,
          120,
          120,
          120,
          120,
          120,
          120,
          120,
          120,
          120,
          120,
          120,
          120,
          120,
          120,
          120,
          120,
          120,
          120,
          120,
          120,
          120,
          120,
          120,
          120,
          120,
          120,
          120,
          120,
          120,
          120,
          120,
          120,
          120,
          120,
          120,
          120,
          120,
          120,
          120,
          120,
          120,
          120,
          120,
          120,
          120,
          120,
          120,
          120,
          120,
          120,
          120,
          120,
          120,
          120,
          120,
          120,
          120,
          120,
          120,
          120,
          120,
          120,
          120,
          120,
          120,
          120,
          120,
          120,
          120,
          120,
          120,
          120,
          120,
          120,
          120,
          120,
          120,
          120,
          120,
          120,
          120,
          120,
          120,
          120,
          120,
          120,
          120,
          120,
          120,
          120,
          120,
          120,
          120,
          120,
          120,
          120,
          120,
          120,
          120,
          120,
          120,
          120,
          120,
          120,
          120,
          120,
          120,
          120,
          120,
          120,
          120,
          120,
          120,
          120,
          120,
          120,
          120,
          120,
          120,
          120,
          120,
          120,
          120,
          120,
          120,
          120,
          120,
          120,
          120,
          120,
          120,
          120,
          120,
          120,
          120,
          120,
          120,
          120,
          120,
          120,
          120,
          120,
          120,
          120,
          120,
          120,
          120,
          120,
          120,
          120,
          120,
          120,
          120,
          120,
          120,
          120,
          120,
          120,
          120,
          120,
          120,
          120,
          120,
          120,
          120,
          120,
          120,
          120,
          120,
          120,
          120,
          120,
          120,
          120,
          120,
          120,
          120,
          120,
          120,
          120,
          120,
          120,
          120,
          120,
          120,
          120,
          120,
          120,
          120,
          120,
          120,
          120,
          120,
          120,
          120,
          120,
          120,
          120,
          120,
          120,
          120,
          120,
          120,
          120,
          120,
          120,
          120,
          120,
          120,
          120,
          120,
          120,
          120,
          120,
          120,
          120,
          120,
          120,
          120,
          120,
          120,
          120,
          120,
          120,
          120,
          120,
          120,
          120,
          120,
          120,
          120,
          120,
          120,
          120,
          120,
          120,
          120,
          120,
          120,
          120,
          120,
          120,
          120,
          120,
          120,
          120,
          120,
          120,
          120,
          120,
          120,
          120,
          120,
          120,
          120,
          120,
          120,
          120,
          120,
          120,
          120,
          120,
          120,
          120,
          120,
          120,
          120,
          120,
          120,
          120,
          120,
          120,
          120,
          120,
          120,
          120,
          120,
          120,
          120,
          120,
          120,
          120,
          120,
          120,
          120,
          120,
          120,
          120,
          120,
          120,
          120,
          120,
          120,
          120,
          120,
          120,
          120,
          120,
          120,
          120,
          120,
          120,
          120,
          120,
          120,
          120,
          120,
          120,
          120,
          120,
          120,
          120,
          120,
          120,
          120,
          120,
          120,
          120,
          120,
          120,
          120,
          120,
          120,
          120,
          120,
          120,
          120,
          120,
          120,
          120,
          120,
          120,
          120,
          120,
          120,
          120
         ]
        },
        {
         "name": "Valor de Venda",
         "type": "box",
         "y": [
          679,
          832,
          790,
          765.32,
          459.89,
          590.98,
          1000.91,
          1229,
          1300,
          1290,
          1287,
          1651,
          1100,
          1190,
          1190.98,
          877,
          982,
          872,
          799,
          899,
          799,
          987,
          699.9,
          789.23,
          789.34,
          764.2,
          1245.9,
          1345.87,
          1234.12,
          1245.9,
          1345.87,
          1234.12,
          1245.9,
          1345.87,
          1234.12,
          1245.9,
          1345.87,
          1234.12,
          1245.9,
          1345.87,
          1234.12,
          1245.9,
          1345.87,
          1234.12,
          1245.9,
          1345.87,
          1234.12,
          1245.9,
          1345.87,
          1234.12,
          900,
          999,
          1234,
          998,
          999,
          999.99,
          982,
          1002,
          376,
          899,
          799,
          1356,
          1788,
          459,
          234,
          345,
          1345,
          675,
          123,
          455,
          566,
          1200,
          1220,
          123,
          445,
          345,
          1220,
          124,
          123,
          230,
          290,
          290,
          290,
          290,
          1100,
          1234.89,
          123,
          297,
          1299,
          167,
          1399,
          168,
          1278,
          150,
          1190,
          149,
          1290,
          135,
          139,
          128,
          138,
          137,
          126,
          136,
          139,
          150,
          167,
          179,
          149,
          149,
          149,
          398,
          788,
          766,
          655,
          788,
          655,
          655,
          455.12,
          262,
          445,
          655,
          555.32,
          456,
          277,
          877,
          988,
          567.32,
          799.9,
          1200,
          345,
          433,
          345.89,
          467,
          1220,
          1233,
          1233,
          721,
          671,
          1899,
          346,
          699,
          876,
          655,
          1200,
          1229,
          1228,
          3999,
          1229,
          1299,
          3999,
          1234,
          875,
          433,
          3999,
          1288,
          3999,
          3999,
          3999,
          3999,
          1234,
          1235,
          1200,
          788,
          761,
          987,
          1567,
          1287,
          1287,
          3999,
          3999,
          3999,
          3999,
          3999,
          3999,
          3999,
          3999,
          1230,
          1230,
          1230,
          1230,
          1220,
          1234,
          1579,
          1288,
          1222,
          1210,
          1212,
          1899,
          567,
          189,
          1212,
          1234,
          763,
          149,
          148,
          139,
          138,
          137,
          121,
          129,
          128,
          129,
          129,
          128,
          129,
          121,
          121,
          121,
          121,
          121,
          121,
          121,
          121,
          121,
          121,
          121,
          355,
          355,
          366,
          388,
          124,
          120,
          190,
          675.9,
          455,
          377,
          678.12,
          789.45,
          890.32,
          433,
          455,
          677,
          345,
          713,
          322,
          222,
          566,
          678.34,
          456,
          290,
          121,
          455,
          121,
          1290,
          121,
          1229,
          121,
          1321,
          121,
          1345,
          121,
          167,
          167,
          167,
          167,
          167,
          167,
          167,
          167,
          167,
          167,
          167,
          167,
          167,
          713,
          713,
          713,
          713,
          713,
          456,
          713,
          713,
          765.34,
          713,
          713,
          234.12,
          134,
          123,
          167,
          189,
          134,
          156,
          123,
          156,
          178,
          139,
          123,
          123,
          1299,
          761,
          765,
          456,
          1230,
          1212,
          1230,
          1299,
          1299,
          1299,
          1299,
          456,
          1230,
          409,
          766,
          1230,
          567,
          1299,
          1299,
          1230,
          1299,
          1230,
          1230,
          1230,
          1230,
          1299,
          1299,
          137,
          632,
          761,
          1299,
          1299,
          1299,
          543,
          1230,
          1230,
          1230,
          1230,
          1230,
          1230,
          1230,
          1230,
          1230,
          1230,
          1230,
          1230,
          1299,
          1299,
          1299,
          899,
          345.87,
          456,
          1299,
          1299,
          1299,
          567,
          1299,
          1299,
          167,
          167,
          167,
          149,
          149,
          149,
          149,
          149,
          149,
          149,
          149,
          149,
          149,
          149,
          765.45,
          149,
          149,
          149,
          149,
          149,
          149,
          149,
          149,
          149,
          1299,
          455,
          455,
          455,
          455,
          455,
          455,
          123,
          455,
          455,
          455,
          566,
          788.9,
          567,
          455,
          455,
          455,
          123,
          455,
          455,
          455,
          455,
          455,
          455,
          455,
          455,
          455,
          455,
          149,
          1390,
          149,
          1120,
          149,
          149,
          149,
          149,
          149,
          149,
          149,
          149,
          149,
          149,
          149,
          149,
          121,
          121,
          788,
          900,
          455,
          390,
          899,
          455,
          234,
          289,
          433,
          345,
          346,
          456,
          145,
          124,
          128,
          127,
          12,
          124,
          124,
          128,
          134,
          143,
          1234,
          1234,
          1234,
          1234,
          1230,
          1100,
          1230,
          1234,
          1234,
          1234,
          1300,
          800,
          900,
          850,
          678,
          1230,
          1234,
          1234
         ]
        }
       ],
       "layout": {
        "template": {
         "data": {
          "bar": [
           {
            "error_x": {
             "color": "#2a3f5f"
            },
            "error_y": {
             "color": "#2a3f5f"
            },
            "marker": {
             "line": {
              "color": "#E5ECF6",
              "width": 0.5
             },
             "pattern": {
              "fillmode": "overlay",
              "size": 10,
              "solidity": 0.2
             }
            },
            "type": "bar"
           }
          ],
          "barpolar": [
           {
            "marker": {
             "line": {
              "color": "#E5ECF6",
              "width": 0.5
             },
             "pattern": {
              "fillmode": "overlay",
              "size": 10,
              "solidity": 0.2
             }
            },
            "type": "barpolar"
           }
          ],
          "carpet": [
           {
            "aaxis": {
             "endlinecolor": "#2a3f5f",
             "gridcolor": "white",
             "linecolor": "white",
             "minorgridcolor": "white",
             "startlinecolor": "#2a3f5f"
            },
            "baxis": {
             "endlinecolor": "#2a3f5f",
             "gridcolor": "white",
             "linecolor": "white",
             "minorgridcolor": "white",
             "startlinecolor": "#2a3f5f"
            },
            "type": "carpet"
           }
          ],
          "choropleth": [
           {
            "colorbar": {
             "outlinewidth": 0,
             "ticks": ""
            },
            "type": "choropleth"
           }
          ],
          "contour": [
           {
            "colorbar": {
             "outlinewidth": 0,
             "ticks": ""
            },
            "colorscale": [
             [
              0,
              "#0d0887"
             ],
             [
              0.1111111111111111,
              "#46039f"
             ],
             [
              0.2222222222222222,
              "#7201a8"
             ],
             [
              0.3333333333333333,
              "#9c179e"
             ],
             [
              0.4444444444444444,
              "#bd3786"
             ],
             [
              0.5555555555555556,
              "#d8576b"
             ],
             [
              0.6666666666666666,
              "#ed7953"
             ],
             [
              0.7777777777777778,
              "#fb9f3a"
             ],
             [
              0.8888888888888888,
              "#fdca26"
             ],
             [
              1,
              "#f0f921"
             ]
            ],
            "type": "contour"
           }
          ],
          "contourcarpet": [
           {
            "colorbar": {
             "outlinewidth": 0,
             "ticks": ""
            },
            "type": "contourcarpet"
           }
          ],
          "heatmap": [
           {
            "colorbar": {
             "outlinewidth": 0,
             "ticks": ""
            },
            "colorscale": [
             [
              0,
              "#0d0887"
             ],
             [
              0.1111111111111111,
              "#46039f"
             ],
             [
              0.2222222222222222,
              "#7201a8"
             ],
             [
              0.3333333333333333,
              "#9c179e"
             ],
             [
              0.4444444444444444,
              "#bd3786"
             ],
             [
              0.5555555555555556,
              "#d8576b"
             ],
             [
              0.6666666666666666,
              "#ed7953"
             ],
             [
              0.7777777777777778,
              "#fb9f3a"
             ],
             [
              0.8888888888888888,
              "#fdca26"
             ],
             [
              1,
              "#f0f921"
             ]
            ],
            "type": "heatmap"
           }
          ],
          "heatmapgl": [
           {
            "colorbar": {
             "outlinewidth": 0,
             "ticks": ""
            },
            "colorscale": [
             [
              0,
              "#0d0887"
             ],
             [
              0.1111111111111111,
              "#46039f"
             ],
             [
              0.2222222222222222,
              "#7201a8"
             ],
             [
              0.3333333333333333,
              "#9c179e"
             ],
             [
              0.4444444444444444,
              "#bd3786"
             ],
             [
              0.5555555555555556,
              "#d8576b"
             ],
             [
              0.6666666666666666,
              "#ed7953"
             ],
             [
              0.7777777777777778,
              "#fb9f3a"
             ],
             [
              0.8888888888888888,
              "#fdca26"
             ],
             [
              1,
              "#f0f921"
             ]
            ],
            "type": "heatmapgl"
           }
          ],
          "histogram": [
           {
            "marker": {
             "pattern": {
              "fillmode": "overlay",
              "size": 10,
              "solidity": 0.2
             }
            },
            "type": "histogram"
           }
          ],
          "histogram2d": [
           {
            "colorbar": {
             "outlinewidth": 0,
             "ticks": ""
            },
            "colorscale": [
             [
              0,
              "#0d0887"
             ],
             [
              0.1111111111111111,
              "#46039f"
             ],
             [
              0.2222222222222222,
              "#7201a8"
             ],
             [
              0.3333333333333333,
              "#9c179e"
             ],
             [
              0.4444444444444444,
              "#bd3786"
             ],
             [
              0.5555555555555556,
              "#d8576b"
             ],
             [
              0.6666666666666666,
              "#ed7953"
             ],
             [
              0.7777777777777778,
              "#fb9f3a"
             ],
             [
              0.8888888888888888,
              "#fdca26"
             ],
             [
              1,
              "#f0f921"
             ]
            ],
            "type": "histogram2d"
           }
          ],
          "histogram2dcontour": [
           {
            "colorbar": {
             "outlinewidth": 0,
             "ticks": ""
            },
            "colorscale": [
             [
              0,
              "#0d0887"
             ],
             [
              0.1111111111111111,
              "#46039f"
             ],
             [
              0.2222222222222222,
              "#7201a8"
             ],
             [
              0.3333333333333333,
              "#9c179e"
             ],
             [
              0.4444444444444444,
              "#bd3786"
             ],
             [
              0.5555555555555556,
              "#d8576b"
             ],
             [
              0.6666666666666666,
              "#ed7953"
             ],
             [
              0.7777777777777778,
              "#fb9f3a"
             ],
             [
              0.8888888888888888,
              "#fdca26"
             ],
             [
              1,
              "#f0f921"
             ]
            ],
            "type": "histogram2dcontour"
           }
          ],
          "mesh3d": [
           {
            "colorbar": {
             "outlinewidth": 0,
             "ticks": ""
            },
            "type": "mesh3d"
           }
          ],
          "parcoords": [
           {
            "line": {
             "colorbar": {
              "outlinewidth": 0,
              "ticks": ""
             }
            },
            "type": "parcoords"
           }
          ],
          "pie": [
           {
            "automargin": true,
            "type": "pie"
           }
          ],
          "scatter": [
           {
            "fillpattern": {
             "fillmode": "overlay",
             "size": 10,
             "solidity": 0.2
            },
            "type": "scatter"
           }
          ],
          "scatter3d": [
           {
            "line": {
             "colorbar": {
              "outlinewidth": 0,
              "ticks": ""
             }
            },
            "marker": {
             "colorbar": {
              "outlinewidth": 0,
              "ticks": ""
             }
            },
            "type": "scatter3d"
           }
          ],
          "scattercarpet": [
           {
            "marker": {
             "colorbar": {
              "outlinewidth": 0,
              "ticks": ""
             }
            },
            "type": "scattercarpet"
           }
          ],
          "scattergeo": [
           {
            "marker": {
             "colorbar": {
              "outlinewidth": 0,
              "ticks": ""
             }
            },
            "type": "scattergeo"
           }
          ],
          "scattergl": [
           {
            "marker": {
             "colorbar": {
              "outlinewidth": 0,
              "ticks": ""
             }
            },
            "type": "scattergl"
           }
          ],
          "scattermapbox": [
           {
            "marker": {
             "colorbar": {
              "outlinewidth": 0,
              "ticks": ""
             }
            },
            "type": "scattermapbox"
           }
          ],
          "scatterpolar": [
           {
            "marker": {
             "colorbar": {
              "outlinewidth": 0,
              "ticks": ""
             }
            },
            "type": "scatterpolar"
           }
          ],
          "scatterpolargl": [
           {
            "marker": {
             "colorbar": {
              "outlinewidth": 0,
              "ticks": ""
             }
            },
            "type": "scatterpolargl"
           }
          ],
          "scatterternary": [
           {
            "marker": {
             "colorbar": {
              "outlinewidth": 0,
              "ticks": ""
             }
            },
            "type": "scatterternary"
           }
          ],
          "surface": [
           {
            "colorbar": {
             "outlinewidth": 0,
             "ticks": ""
            },
            "colorscale": [
             [
              0,
              "#0d0887"
             ],
             [
              0.1111111111111111,
              "#46039f"
             ],
             [
              0.2222222222222222,
              "#7201a8"
             ],
             [
              0.3333333333333333,
              "#9c179e"
             ],
             [
              0.4444444444444444,
              "#bd3786"
             ],
             [
              0.5555555555555556,
              "#d8576b"
             ],
             [
              0.6666666666666666,
              "#ed7953"
             ],
             [
              0.7777777777777778,
              "#fb9f3a"
             ],
             [
              0.8888888888888888,
              "#fdca26"
             ],
             [
              1,
              "#f0f921"
             ]
            ],
            "type": "surface"
           }
          ],
          "table": [
           {
            "cells": {
             "fill": {
              "color": "#EBF0F8"
             },
             "line": {
              "color": "white"
             }
            },
            "header": {
             "fill": {
              "color": "#C8D4E3"
             },
             "line": {
              "color": "white"
             }
            },
            "type": "table"
           }
          ]
         },
         "layout": {
          "annotationdefaults": {
           "arrowcolor": "#2a3f5f",
           "arrowhead": 0,
           "arrowwidth": 1
          },
          "autotypenumbers": "strict",
          "coloraxis": {
           "colorbar": {
            "outlinewidth": 0,
            "ticks": ""
           }
          },
          "colorscale": {
           "diverging": [
            [
             0,
             "#8e0152"
            ],
            [
             0.1,
             "#c51b7d"
            ],
            [
             0.2,
             "#de77ae"
            ],
            [
             0.3,
             "#f1b6da"
            ],
            [
             0.4,
             "#fde0ef"
            ],
            [
             0.5,
             "#f7f7f7"
            ],
            [
             0.6,
             "#e6f5d0"
            ],
            [
             0.7,
             "#b8e186"
            ],
            [
             0.8,
             "#7fbc41"
            ],
            [
             0.9,
             "#4d9221"
            ],
            [
             1,
             "#276419"
            ]
           ],
           "sequential": [
            [
             0,
             "#0d0887"
            ],
            [
             0.1111111111111111,
             "#46039f"
            ],
            [
             0.2222222222222222,
             "#7201a8"
            ],
            [
             0.3333333333333333,
             "#9c179e"
            ],
            [
             0.4444444444444444,
             "#bd3786"
            ],
            [
             0.5555555555555556,
             "#d8576b"
            ],
            [
             0.6666666666666666,
             "#ed7953"
            ],
            [
             0.7777777777777778,
             "#fb9f3a"
            ],
            [
             0.8888888888888888,
             "#fdca26"
            ],
            [
             1,
             "#f0f921"
            ]
           ],
           "sequentialminus": [
            [
             0,
             "#0d0887"
            ],
            [
             0.1111111111111111,
             "#46039f"
            ],
            [
             0.2222222222222222,
             "#7201a8"
            ],
            [
             0.3333333333333333,
             "#9c179e"
            ],
            [
             0.4444444444444444,
             "#bd3786"
            ],
            [
             0.5555555555555556,
             "#d8576b"
            ],
            [
             0.6666666666666666,
             "#ed7953"
            ],
            [
             0.7777777777777778,
             "#fb9f3a"
            ],
            [
             0.8888888888888888,
             "#fdca26"
            ],
            [
             1,
             "#f0f921"
            ]
           ]
          },
          "colorway": [
           "#636efa",
           "#EF553B",
           "#00cc96",
           "#ab63fa",
           "#FFA15A",
           "#19d3f3",
           "#FF6692",
           "#B6E880",
           "#FF97FF",
           "#FECB52"
          ],
          "font": {
           "color": "#2a3f5f"
          },
          "geo": {
           "bgcolor": "white",
           "lakecolor": "white",
           "landcolor": "#E5ECF6",
           "showlakes": true,
           "showland": true,
           "subunitcolor": "white"
          },
          "hoverlabel": {
           "align": "left"
          },
          "hovermode": "closest",
          "mapbox": {
           "style": "light"
          },
          "paper_bgcolor": "white",
          "plot_bgcolor": "#E5ECF6",
          "polar": {
           "angularaxis": {
            "gridcolor": "white",
            "linecolor": "white",
            "ticks": ""
           },
           "bgcolor": "#E5ECF6",
           "radialaxis": {
            "gridcolor": "white",
            "linecolor": "white",
            "ticks": ""
           }
          },
          "scene": {
           "xaxis": {
            "backgroundcolor": "#E5ECF6",
            "gridcolor": "white",
            "gridwidth": 2,
            "linecolor": "white",
            "showbackground": true,
            "ticks": "",
            "zerolinecolor": "white"
           },
           "yaxis": {
            "backgroundcolor": "#E5ECF6",
            "gridcolor": "white",
            "gridwidth": 2,
            "linecolor": "white",
            "showbackground": true,
            "ticks": "",
            "zerolinecolor": "white"
           },
           "zaxis": {
            "backgroundcolor": "#E5ECF6",
            "gridcolor": "white",
            "gridwidth": 2,
            "linecolor": "white",
            "showbackground": true,
            "ticks": "",
            "zerolinecolor": "white"
           }
          },
          "shapedefaults": {
           "line": {
            "color": "#2a3f5f"
           }
          },
          "ternary": {
           "aaxis": {
            "gridcolor": "white",
            "linecolor": "white",
            "ticks": ""
           },
           "baxis": {
            "gridcolor": "white",
            "linecolor": "white",
            "ticks": ""
           },
           "bgcolor": "#E5ECF6",
           "caxis": {
            "gridcolor": "white",
            "linecolor": "white",
            "ticks": ""
           }
          },
          "title": {
           "x": 0.05
          },
          "xaxis": {
           "automargin": true,
           "gridcolor": "white",
           "linecolor": "white",
           "ticks": "",
           "title": {
            "standoff": 15
           },
           "zerolinecolor": "white",
           "zerolinewidth": 2
          },
          "yaxis": {
           "automargin": true,
           "gridcolor": "white",
           "linecolor": "white",
           "ticks": "",
           "title": {
            "standoff": 15
           },
           "zerolinecolor": "white",
           "zerolinewidth": 2
          }
         }
        },
        "title": {
         "text": "Boxplot Valor de Venda e Custo"
        },
        "yaxis": {
         "title": {
          "text": "Valor"
         }
        }
       }
      }
     },
     "metadata": {},
     "output_type": "display_data"
    }
   ],
   "source": [
    "# Gráfico de caixa para Custo e ValorVenda\n",
    "fig_box = go.Figure()\n",
    "\n",
    "# Adicionando o gráfico de caixa para \"Custo\"\n",
    "fig_box.add_trace(go.Box(y=df['Custo'], name='Custo'))\n",
    "\n",
    "# Adicionando o gráfico de caixa para \"ValorVenda\"\n",
    "fig_box.add_trace(go.Box(y=df['ValorVenda'], name='Valor de Venda'))\n",
    "\n",
    "# Título do gráfico de caixa\n",
    "fig_box.update_layout(title='Boxplot Valor de Venda e Custo', yaxis_title='Valor')\n",
    "fig_box.show()"
   ]
  },
  {
   "cell_type": "markdown",
   "metadata": {},
   "source": [
    "- 2- Abaixo podemos analisar que é apenas um produto cujo preço é mais alto em comparação aos outros produtos."
   ]
  },
  {
   "cell_type": "code",
   "execution_count": null,
   "metadata": {},
   "outputs": [],
   "source": []
  },
  {
   "cell_type": "code",
   "execution_count": 81,
   "metadata": {},
   "outputs": [
    {
     "name": "stdout",
     "output_type": "stream",
     "text": [
      "Produtos com ValorVenda acima de 90%:\n",
      "              Produto  ValorVenda\n",
      "11   Geladeira Duplex      1651.0\n",
      "62   Desktop HP 16 GB      1788.0\n",
      "90    Ar Condicionado      1399.0\n",
      "139  Samsung Galaxy 8      1899.0\n",
      "147  Samsung Galaxy 8      3999.0\n",
      "150  Samsung Galaxy 8      3999.0\n",
      "154  Samsung Galaxy 8      3999.0\n",
      "156  Samsung Galaxy 8      3999.0\n",
      "157  Samsung Galaxy 8      3999.0\n",
      "158  Samsung Galaxy 8      3999.0\n",
      "159  Samsung Galaxy 8      3999.0\n",
      "166  Geladeira Duplex      1567.0\n",
      "169  Samsung Galaxy 8      3999.0\n",
      "170  Samsung Galaxy 8      3999.0\n",
      "171  Samsung Galaxy 8      3999.0\n",
      "172  Samsung Galaxy 8      3999.0\n",
      "173  Samsung Galaxy 8      3999.0\n",
      "174  Samsung Galaxy 8      3999.0\n",
      "175  Samsung Galaxy 8      3999.0\n",
      "176  Samsung Galaxy 8      3999.0\n",
      "183  Geladeira Duplex      1579.0\n",
      "188  Geladeira Duplex      1899.0\n",
      "400   Ar Condicionado      1390.0\n",
      "\n",
      "Quantidade de possíveis anomalias: 23\n"
     ]
    }
   ],
   "source": [
    "## Calcular novanta porcento\n",
    "acima= df['ValorVenda'].quantile(0.95)\n",
    "\n",
    "# Filtrar produtos com ValorVenda acima de 95%\n",
    "produtos_acima = df[df['ValorVenda'] > acima][['Produto', 'ValorVenda']]\n",
    "\n",
    "# Quantidade de anomalias\n",
    "quantidade_anomalias = produtos_acima.shape[0]\n",
    "\n",
    "# Exibir resultados\n",
    "print(\"Produtos com ValorVenda acima de 90%:\")\n",
    "print(produtos_acima)\n",
    "print(\"\\nQuantidade de possíveis anomalias:\", quantidade_anomalias)"
   ]
  },
  {
   "cell_type": "markdown",
   "metadata": {},
   "source": [
    "- Agora vamos examinar como estão as percentagens de lucro e custo."
   ]
  },
  {
   "cell_type": "code",
   "execution_count": 100,
   "metadata": {},
   "outputs": [
    {
     "data": {
      "image/png": "[encoded data removed]",
      "text/plain": [
       "<Figure size 1200x800 with 1 Axes>"
      ]
     },
     "metadata": {},
     "output_type": "display_data"
    }
   ],
   "source": [
    "#Total de Valor venda, custo e  lucro.\n",
    "totaldevendas=df[[\"Custo\", \"Lucro\"]].sum()\n",
    "\n",
    "#Tamanho da figura.\n",
    "plt.figure(figsize=(12, 8))\n",
    "\n",
    "#Grafico de pizza, labels, dados em porcentagem, angulo e cores.\n",
    "plt.pie(totaldevendas, labels=totaldevendas.index, autopct='%1.1f%%', startangle=90, colors=[\"lightcoral\", \"lightblue\", \"lightgreen\"])\n",
    "\n",
    "#Título.\n",
    "plt.title(\"Lucro e Custo em porcentagem\")\n",
    "\n",
    "#Mostra o gráfico.\n",
    "plt.show()"
   ]
  },
  {
   "cell_type": "markdown",
   "metadata": {},
   "source": [
    "- Analisando os total de venda por \"Data Venda\"."
   ]
  },
  {
   "cell_type": "code",
   "execution_count": 101,
   "metadata": {},
   "outputs": [
    {
     "data": {
      "image/png": "[encoded data removed]",
      "text/plain": [
       "<Figure size 1800x800 with 1 Axes>"
      ]
     },
     "metadata": {},
     "output_type": "display_data"
    }
   ],
   "source": [
    "#DataFrame.\n",
    "datavenda=df.groupby([\"Data Venda\"])[\"ValorVenda\"].sum()\n",
    "\n",
    "#Tamanho do gráfico.\n",
    "plt.figure(figsize=(18, 8))\n",
    "\n",
    "# Gráfico de linhas.\n",
    "datavenda.plot()\n",
    "\n",
    "#Labels.\n",
    "plt.xlabel(\"Data Venda\")\n",
    "plt.ylabel(\"Total de Vendas(mil)\")\n",
    "plt.title(\"Vendas Totais por Data Venda\")\n",
    "\n",
    "#Grade.\n",
    "plt.grid(True)\n",
    "\n",
    "#Mostrar arquivo\n",
    "plt.show()"
   ]
  },
  {
   "cell_type": "markdown",
   "metadata": {},
   "source": [
    "- Verifique como não ficou tão bom visualmente, destacando a impotância para uma análise por ano e mês. Irei criar uma coluna com os anos e os meses separados de \"data de venda\"."
   ]
  },
  {
   "cell_type": "code",
   "execution_count": 102,
   "metadata": {},
   "outputs": [
    {
     "data": {
      "text/html": [
       "<div>\n",
       "<style scoped>\n",
       "    .dataframe tbody tr th:only-of-type {\n",
       "        vertical-align: middle;\n",
       "    }\n",
       "\n",
       "    .dataframe tbody tr th {\n",
       "        vertical-align: top;\n",
       "    }\n",
       "\n",
       "    .dataframe thead th {\n",
       "        text-align: right;\n",
       "    }\n",
       "</style>\n",
       "<table border=\"1\" class=\"dataframe\">\n",
       "  <thead>\n",
       "    <tr style=\"text-align: right;\">\n",
       "      <th></th>\n",
       "      <th>ID-Produto</th>\n",
       "      <th>Produto</th>\n",
       "      <th>Categoria</th>\n",
       "      <th>Segmento</th>\n",
       "      <th>Fabricante</th>\n",
       "      <th>Loja</th>\n",
       "      <th>Cidade</th>\n",
       "      <th>Estado</th>\n",
       "      <th>Vendedor</th>\n",
       "      <th>ID-Vendedor</th>\n",
       "      <th>Data Venda</th>\n",
       "      <th>ValorVenda</th>\n",
       "      <th>Custo</th>\n",
       "      <th>Lucro</th>\n",
       "      <th>MargemdeLucro</th>\n",
       "      <th>Ano</th>\n",
       "      <th>Mes</th>\n",
       "    </tr>\n",
       "  </thead>\n",
       "  <tbody>\n",
       "    <tr>\n",
       "      <th>0</th>\n",
       "      <td>SKU-0000001</td>\n",
       "      <td>LG K10 TV Power</td>\n",
       "      <td>Celulares</td>\n",
       "      <td>Corporativo</td>\n",
       "      <td>LG</td>\n",
       "      <td>SP8821</td>\n",
       "      <td>São Paulo</td>\n",
       "      <td>São Paulo</td>\n",
       "      <td>Ana Teixeira</td>\n",
       "      <td>1009</td>\n",
       "      <td>2012-10-04</td>\n",
       "      <td>679.00</td>\n",
       "      <td>345.0</td>\n",
       "      <td>334.00</td>\n",
       "      <td>49.19</td>\n",
       "      <td>2012</td>\n",
       "      <td>10</td>\n",
       "    </tr>\n",
       "    <tr>\n",
       "      <th>1</th>\n",
       "      <td>SKU-0000002</td>\n",
       "      <td>Geladeira Duplex</td>\n",
       "      <td>Eletrodomésticos</td>\n",
       "      <td>Doméstico</td>\n",
       "      <td>Brastemp</td>\n",
       "      <td>SP8821</td>\n",
       "      <td>São Paulo</td>\n",
       "      <td>São Paulo</td>\n",
       "      <td>Josias Silva</td>\n",
       "      <td>1006</td>\n",
       "      <td>2012-01-01</td>\n",
       "      <td>832.00</td>\n",
       "      <td>712.0</td>\n",
       "      <td>120.00</td>\n",
       "      <td>14.42</td>\n",
       "      <td>2012</td>\n",
       "      <td>1</td>\n",
       "    </tr>\n",
       "    <tr>\n",
       "      <th>2</th>\n",
       "      <td>SKU-0000003</td>\n",
       "      <td>Lavadora 11 Kg</td>\n",
       "      <td>Eletrodomésticos</td>\n",
       "      <td>Doméstico</td>\n",
       "      <td>Brastemp</td>\n",
       "      <td>SP8821</td>\n",
       "      <td>São Paulo</td>\n",
       "      <td>São Paulo</td>\n",
       "      <td>Josias Silva</td>\n",
       "      <td>1006</td>\n",
       "      <td>2012-02-02</td>\n",
       "      <td>790.00</td>\n",
       "      <td>390.0</td>\n",
       "      <td>400.00</td>\n",
       "      <td>50.63</td>\n",
       "      <td>2012</td>\n",
       "      <td>2</td>\n",
       "    </tr>\n",
       "    <tr>\n",
       "      <th>3</th>\n",
       "      <td>SKU-0000004</td>\n",
       "      <td>Lavadora 11 Kg</td>\n",
       "      <td>Eletrodomésticos</td>\n",
       "      <td>Doméstico</td>\n",
       "      <td>Brastemp</td>\n",
       "      <td>SP8821</td>\n",
       "      <td>São Paulo</td>\n",
       "      <td>São Paulo</td>\n",
       "      <td>Mateus Gonçalves</td>\n",
       "      <td>1003</td>\n",
       "      <td>2012-03-03</td>\n",
       "      <td>765.32</td>\n",
       "      <td>200.0</td>\n",
       "      <td>565.32</td>\n",
       "      <td>73.87</td>\n",
       "      <td>2012</td>\n",
       "      <td>3</td>\n",
       "    </tr>\n",
       "    <tr>\n",
       "      <th>4</th>\n",
       "      <td>SKU-0000005</td>\n",
       "      <td>Lavadora 11 Kg</td>\n",
       "      <td>Eletrodomésticos</td>\n",
       "      <td>Doméstico</td>\n",
       "      <td>Electrolux</td>\n",
       "      <td>SP8821</td>\n",
       "      <td>São Paulo</td>\n",
       "      <td>São Paulo</td>\n",
       "      <td>Artur Moreira</td>\n",
       "      <td>1004</td>\n",
       "      <td>2012-04-04</td>\n",
       "      <td>459.89</td>\n",
       "      <td>234.0</td>\n",
       "      <td>225.89</td>\n",
       "      <td>49.12</td>\n",
       "      <td>2012</td>\n",
       "      <td>4</td>\n",
       "    </tr>\n",
       "  </tbody>\n",
       "</table>\n",
       "</div>"
      ],
      "text/plain": [
       "    ID-Produto           Produto         Categoria     Segmento  Fabricante  \\\n",
       "0  SKU-0000001   LG K10 TV Power         Celulares  Corporativo          LG   \n",
       "1  SKU-0000002  Geladeira Duplex  Eletrodomésticos    Doméstico    Brastemp   \n",
       "2  SKU-0000003    Lavadora 11 Kg  Eletrodomésticos    Doméstico    Brastemp   \n",
       "3  SKU-0000004    Lavadora 11 Kg  Eletrodomésticos    Doméstico    Brastemp   \n",
       "4  SKU-0000005    Lavadora 11 Kg  Eletrodomésticos    Doméstico  Electrolux   \n",
       "\n",
       "     Loja     Cidade     Estado          Vendedor  ID-Vendedor Data Venda  \\\n",
       "0  SP8821  São Paulo  São Paulo      Ana Teixeira         1009 2012-10-04   \n",
       "1  SP8821  São Paulo  São Paulo      Josias Silva         1006 2012-01-01   \n",
       "2  SP8821  São Paulo  São Paulo      Josias Silva         1006 2012-02-02   \n",
       "3  SP8821  São Paulo  São Paulo  Mateus Gonçalves         1003 2012-03-03   \n",
       "4  SP8821  São Paulo  São Paulo     Artur Moreira         1004 2012-04-04   \n",
       "\n",
       "   ValorVenda  Custo   Lucro  MargemdeLucro   Ano  Mes  \n",
       "0      679.00  345.0  334.00          49.19  2012   10  \n",
       "1      832.00  712.0  120.00          14.42  2012    1  \n",
       "2      790.00  390.0  400.00          50.63  2012    2  \n",
       "3      765.32  200.0  565.32          73.87  2012    3  \n",
       "4      459.89  234.0  225.89          49.12  2012    4  "
      ]
     },
     "execution_count": 102,
     "metadata": {},
     "output_type": "execute_result"
    }
   ],
   "source": [
    "#Elaborando uma coluna para o ano e o meses. \n",
    "df[\"Ano\"] = df[\"Data Venda\"].dt.year\n",
    "df[\"Mes\"] = df[\"Data Venda\"].dt.month\n",
    "#Verificando as colunas.\n",
    "df.head().round(2)"
   ]
  },
  {
   "cell_type": "markdown",
   "metadata": {},
   "source": [
    "- Podemos notar abaixo que tivemos uma baixa do ano 2013 para 2014 e uma boa recuperação em 2015."
   ]
  },
  {
   "cell_type": "code",
   "execution_count": 103,
   "metadata": {},
   "outputs": [
    {
     "data": {
      "image/png": "[encoded data removed]",
      "text/plain": [
       "<Figure size 2000x800 with 1 Axes>"
      ]
     },
     "metadata": {},
     "output_type": "display_data"
    }
   ],
   "source": [
    "#DataFrame\n",
    "ano=df.groupby([\"Ano\"])[\"ValorVenda\"].sum()\n",
    "\n",
    "#Tamanho do gráfico\n",
    "plt.figure(figsize=(20, 8))\n",
    "\n",
    "# Adicionei marcas para mostrar pontos no gráfico.\n",
    "ano.plot(marker='o') \n",
    "\n",
    "#Labels\n",
    "plt.xlabel(\"Ano\")\n",
    "plt.ylabel(\"Total de Vendas(mil)\")\n",
    "plt.title(\"Vendas Totais ao Longo dos Anos\")\n",
    "#Grade.\n",
    "plt.grid(True)\n",
    "\n",
    "#Mostrar arquivo\n",
    "plt.show()"
   ]
  },
  {
   "cell_type": "markdown",
   "metadata": {},
   "source": [
    "Não foram registradas vendas de eletrônicos e ouve uma queda da categoria com maior desempenho(Eletrodomésticos). Principalmente por esses fatores houve uma baixa em 2014, como podemos análisar no gráfico abaixo."
   ]
  },
  {
   "cell_type": "code",
   "execution_count": 104,
   "metadata": {},
   "outputs": [
    {
     "data": {
      "image/png": "[encoded data removed]",
      "text/plain": [
       "<Figure size 1000x600 with 1 Axes>"
      ]
     },
     "metadata": {},
     "output_type": "display_data"
    }
   ],
   "source": [
    "df_2013_2014 = df[df['Ano'].isin([2013, 2014])]\n",
    "resultado = df_2013_2014.groupby([\"Ano\", \"Categoria\"])[\"ValorVenda\"].sum()\n",
    "resultado.plot(kind='bar', figsize=(10, 6))\n",
    "plt.title(\"Comparação de Vendas por Segmento em 2013 e 2014\")\n",
    "plt.xlabel(\"Categoria\")\n",
    "plt.ylabel(\"Valor de Venda\")\n",
    "plt.xticks(rotation=30)\n",
    "plt.show()"
   ]
  },
  {
   "cell_type": "markdown",
   "metadata": {},
   "source": [
    "- Podemos observar que as vendas entre março e maio teve um bom desempenho, já agosto e dezembro as vendas preocupam. Uma queda preocupante."
   ]
  },
  {
   "cell_type": "code",
   "execution_count": 105,
   "metadata": {},
   "outputs": [
    {
     "data": {
      "image/png": "[encoded data removed]",
      "text/plain": [
       "<Figure size 1800x800 with 1 Axes>"
      ]
     },
     "metadata": {},
     "output_type": "display_data"
    }
   ],
   "source": [
    "#DataFrame\n",
    "mes=df.groupby([\"Mes\"])[\"ValorVenda\"].sum()\n",
    "\n",
    "#Tamanho do gráfico\n",
    "plt.figure(figsize=(18, 8))\n",
    "\n",
    "# Adicionei marcas para mostrar pontos no gráfico.\n",
    "mes.plot(marker='o')  \n",
    "\n",
    "#Labels\n",
    "plt.xlabel(\"Mes\")\n",
    "plt.ylabel(\"Total de Vendas(mil)\")\n",
    "plt.title(\"Vendas Totais ao Longo dos Meses\")\n",
    "#Grade.\n",
    "plt.grid(True)\n",
    "\n",
    "#Mostrar arquivo\n",
    "plt.show()"
   ]
  },
  {
   "cell_type": "markdown",
   "metadata": {},
   "source": [
    "- Vendas de produtos por categoria"
   ]
  },
  {
   "cell_type": "code",
   "execution_count": 106,
   "metadata": {},
   "outputs": [
    {
     "data": {
      "text/plain": [
       "Categoria\n",
       "Eletrodomésticos    226\n",
       "Eletroportáteis     124\n",
       "Eletrônicos          60\n",
       "Celulares            47\n",
       "Name: count, dtype: int64"
      ]
     },
     "execution_count": 106,
     "metadata": {},
     "output_type": "execute_result"
    }
   ],
   "source": [
    "#Quantidade de vendas por Categoria\n",
    "df[\"Categoria\"].value_counts()"
   ]
  },
  {
   "cell_type": "markdown",
   "metadata": {},
   "source": [
    "- A média dos preços de celulares ao longo dos anos diminuíram ano a ano. Eletrônicos também caíram as médias dos valores, mas com uma queda de maior relevância."
   ]
  },
  {
   "cell_type": "code",
   "execution_count": 107,
   "metadata": {},
   "outputs": [
    {
     "data": {
      "text/html": [
       "<div>\n",
       "<style scoped>\n",
       "    .dataframe tbody tr th:only-of-type {\n",
       "        vertical-align: middle;\n",
       "    }\n",
       "\n",
       "    .dataframe tbody tr th {\n",
       "        vertical-align: top;\n",
       "    }\n",
       "\n",
       "    .dataframe thead th {\n",
       "        text-align: right;\n",
       "    }\n",
       "</style>\n",
       "<table border=\"1\" class=\"dataframe\">\n",
       "  <thead>\n",
       "    <tr style=\"text-align: right;\">\n",
       "      <th></th>\n",
       "      <th>Ano</th>\n",
       "      <th>Categoria</th>\n",
       "      <th>ValorVenda</th>\n",
       "    </tr>\n",
       "  </thead>\n",
       "  <tbody>\n",
       "    <tr>\n",
       "      <th>3</th>\n",
       "      <td>2013</td>\n",
       "      <td>Celulares</td>\n",
       "      <td>2649.00</td>\n",
       "    </tr>\n",
       "    <tr>\n",
       "      <th>7</th>\n",
       "      <td>2014</td>\n",
       "      <td>Celulares</td>\n",
       "      <td>2614.50</td>\n",
       "    </tr>\n",
       "    <tr>\n",
       "      <th>10</th>\n",
       "      <td>2015</td>\n",
       "      <td>Celulares</td>\n",
       "      <td>1911.94</td>\n",
       "    </tr>\n",
       "    <tr>\n",
       "      <th>2</th>\n",
       "      <td>2012</td>\n",
       "      <td>Eletrônicos</td>\n",
       "      <td>1246.47</td>\n",
       "    </tr>\n",
       "    <tr>\n",
       "      <th>4</th>\n",
       "      <td>2013</td>\n",
       "      <td>Eletrodomésticos</td>\n",
       "      <td>887.66</td>\n",
       "    </tr>\n",
       "    <tr>\n",
       "      <th>11</th>\n",
       "      <td>2015</td>\n",
       "      <td>Eletrodomésticos</td>\n",
       "      <td>876.29</td>\n",
       "    </tr>\n",
       "    <tr>\n",
       "      <th>1</th>\n",
       "      <td>2012</td>\n",
       "      <td>Eletrodomésticos</td>\n",
       "      <td>841.04</td>\n",
       "    </tr>\n",
       "    <tr>\n",
       "      <th>6</th>\n",
       "      <td>2013</td>\n",
       "      <td>Eletrônicos</td>\n",
       "      <td>812.89</td>\n",
       "    </tr>\n",
       "    <tr>\n",
       "      <th>8</th>\n",
       "      <td>2014</td>\n",
       "      <td>Eletrodomésticos</td>\n",
       "      <td>769.86</td>\n",
       "    </tr>\n",
       "    <tr>\n",
       "      <th>0</th>\n",
       "      <td>2012</td>\n",
       "      <td>Celulares</td>\n",
       "      <td>679.00</td>\n",
       "    </tr>\n",
       "    <tr>\n",
       "      <th>13</th>\n",
       "      <td>2015</td>\n",
       "      <td>Eletrônicos</td>\n",
       "      <td>577.60</td>\n",
       "    </tr>\n",
       "    <tr>\n",
       "      <th>9</th>\n",
       "      <td>2014</td>\n",
       "      <td>Eletroportáteis</td>\n",
       "      <td>169.71</td>\n",
       "    </tr>\n",
       "    <tr>\n",
       "      <th>5</th>\n",
       "      <td>2013</td>\n",
       "      <td>Eletroportáteis</td>\n",
       "      <td>155.37</td>\n",
       "    </tr>\n",
       "    <tr>\n",
       "      <th>12</th>\n",
       "      <td>2015</td>\n",
       "      <td>Eletroportáteis</td>\n",
       "      <td>148.52</td>\n",
       "    </tr>\n",
       "  </tbody>\n",
       "</table>\n",
       "</div>"
      ],
      "text/plain": [
       "     Ano         Categoria  ValorVenda\n",
       "3   2013         Celulares     2649.00\n",
       "7   2014         Celulares     2614.50\n",
       "10  2015         Celulares     1911.94\n",
       "2   2012       Eletrônicos     1246.47\n",
       "4   2013  Eletrodomésticos      887.66\n",
       "11  2015  Eletrodomésticos      876.29\n",
       "1   2012  Eletrodomésticos      841.04\n",
       "6   2013       Eletrônicos      812.89\n",
       "8   2014  Eletrodomésticos      769.86\n",
       "0   2012         Celulares      679.00\n",
       "13  2015       Eletrônicos      577.60\n",
       "9   2014   Eletroportáteis      169.71\n",
       "5   2013   Eletroportáteis      155.37\n",
       "12  2015   Eletroportáteis      148.52"
      ]
     },
     "execution_count": 107,
     "metadata": {},
     "output_type": "execute_result"
    }
   ],
   "source": [
    "#Agrupamento por ano, categoria e valor média de venda por produto.\n",
    "df.groupby([\"Ano\",\"Categoria\"])[\"ValorVenda\"].mean().reset_index().sort_values(by = \"ValorVenda\",  ascending = False).round(2)"
   ]
  },
  {
   "cell_type": "markdown",
   "metadata": {},
   "source": [
    "- Preço total de venda por categoria, em ordem decrescente para melhor comparação."
   ]
  },
  {
   "cell_type": "code",
   "execution_count": 108,
   "metadata": {},
   "outputs": [
    {
     "data": {
      "text/html": [
       "<div>\n",
       "<style scoped>\n",
       "    .dataframe tbody tr th:only-of-type {\n",
       "        vertical-align: middle;\n",
       "    }\n",
       "\n",
       "    .dataframe tbody tr th {\n",
       "        vertical-align: top;\n",
       "    }\n",
       "\n",
       "    .dataframe thead th {\n",
       "        text-align: right;\n",
       "    }\n",
       "</style>\n",
       "<table border=\"1\" class=\"dataframe\">\n",
       "  <thead>\n",
       "    <tr style=\"text-align: right;\">\n",
       "      <th></th>\n",
       "      <th>Ano</th>\n",
       "      <th>Categoria</th>\n",
       "      <th>ValorVenda</th>\n",
       "    </tr>\n",
       "  </thead>\n",
       "  <tbody>\n",
       "    <tr>\n",
       "      <th>11</th>\n",
       "      <td>2015</td>\n",
       "      <td>Eletrodomésticos</td>\n",
       "      <td>77989.88</td>\n",
       "    </tr>\n",
       "    <tr>\n",
       "      <th>10</th>\n",
       "      <td>2015</td>\n",
       "      <td>Celulares</td>\n",
       "      <td>61182.00</td>\n",
       "    </tr>\n",
       "    <tr>\n",
       "      <th>4</th>\n",
       "      <td>2013</td>\n",
       "      <td>Eletrodomésticos</td>\n",
       "      <td>60361.13</td>\n",
       "    </tr>\n",
       "    <tr>\n",
       "      <th>8</th>\n",
       "      <td>2014</td>\n",
       "      <td>Eletrodomésticos</td>\n",
       "      <td>33104.02</td>\n",
       "    </tr>\n",
       "    <tr>\n",
       "      <th>7</th>\n",
       "      <td>2014</td>\n",
       "      <td>Celulares</td>\n",
       "      <td>26145.00</td>\n",
       "    </tr>\n",
       "    <tr>\n",
       "      <th>1</th>\n",
       "      <td>2012</td>\n",
       "      <td>Eletrodomésticos</td>\n",
       "      <td>21867.08</td>\n",
       "    </tr>\n",
       "    <tr>\n",
       "      <th>6</th>\n",
       "      <td>2013</td>\n",
       "      <td>Eletrônicos</td>\n",
       "      <td>19509.43</td>\n",
       "    </tr>\n",
       "    <tr>\n",
       "      <th>2</th>\n",
       "      <td>2012</td>\n",
       "      <td>Eletrônicos</td>\n",
       "      <td>14957.66</td>\n",
       "    </tr>\n",
       "    <tr>\n",
       "      <th>13</th>\n",
       "      <td>2015</td>\n",
       "      <td>Eletrônicos</td>\n",
       "      <td>13862.46</td>\n",
       "    </tr>\n",
       "    <tr>\n",
       "      <th>12</th>\n",
       "      <td>2015</td>\n",
       "      <td>Eletroportáteis</td>\n",
       "      <td>12030.45</td>\n",
       "    </tr>\n",
       "    <tr>\n",
       "      <th>3</th>\n",
       "      <td>2013</td>\n",
       "      <td>Celulares</td>\n",
       "      <td>10596.00</td>\n",
       "    </tr>\n",
       "    <tr>\n",
       "      <th>9</th>\n",
       "      <td>2014</td>\n",
       "      <td>Eletroportáteis</td>\n",
       "      <td>4073.00</td>\n",
       "    </tr>\n",
       "    <tr>\n",
       "      <th>5</th>\n",
       "      <td>2013</td>\n",
       "      <td>Eletroportáteis</td>\n",
       "      <td>2952.00</td>\n",
       "    </tr>\n",
       "    <tr>\n",
       "      <th>0</th>\n",
       "      <td>2012</td>\n",
       "      <td>Celulares</td>\n",
       "      <td>679.00</td>\n",
       "    </tr>\n",
       "  </tbody>\n",
       "</table>\n",
       "</div>"
      ],
      "text/plain": [
       "     Ano         Categoria  ValorVenda\n",
       "11  2015  Eletrodomésticos    77989.88\n",
       "10  2015         Celulares    61182.00\n",
       "4   2013  Eletrodomésticos    60361.13\n",
       "8   2014  Eletrodomésticos    33104.02\n",
       "7   2014         Celulares    26145.00\n",
       "1   2012  Eletrodomésticos    21867.08\n",
       "6   2013       Eletrônicos    19509.43\n",
       "2   2012       Eletrônicos    14957.66\n",
       "13  2015       Eletrônicos    13862.46\n",
       "12  2015   Eletroportáteis    12030.45\n",
       "3   2013         Celulares    10596.00\n",
       "9   2014   Eletroportáteis     4073.00\n",
       "5   2013   Eletroportáteis     2952.00\n",
       "0   2012         Celulares      679.00"
      ]
     },
     "execution_count": 108,
     "metadata": {},
     "output_type": "execute_result"
    }
   ],
   "source": [
    "#Agrupamento por ano, categoria e valor total de venda.\n",
    "df.groupby([\"Ano\",\"Categoria\"])[\"ValorVenda\",].sum().reset_index().sort_values(by = \"ValorVenda\",  ascending = False).round(2)"
   ]
  },
  {
   "cell_type": "markdown",
   "metadata": {},
   "source": [
    "- Com a análise, podemos notar que a categoria de celulares foi a que mais cresceu, atingindo um aumento de 8.910,60%."
   ]
  },
  {
   "cell_type": "code",
   "execution_count": 109,
   "metadata": {},
   "outputs": [
    {
     "name": "stdout",
     "output_type": "stream",
     "text": [
      "Aumento percentual de: 8910.60%\n"
     ]
    }
   ],
   "source": [
    "#Calculando porcentagem de crescimento de vendas totai em celulares.\n",
    "celulares=(61182-679) /679*100\n",
    "print(\"Aumento percentual de: {:.2f}%\".format(celulares))"
   ]
  },
  {
   "cell_type": "markdown",
   "metadata": {},
   "source": [
    "* Já os eletrodomésticos tiveram uma queda em 2014 de 45,15%, levando em consideração o ano de 2013."
   ]
  },
  {
   "cell_type": "code",
   "execution_count": 110,
   "metadata": {},
   "outputs": [
    {
     "name": "stdout",
     "output_type": "stream",
     "text": [
      "Diminuição percetual de: -45.16%\n"
     ]
    }
   ],
   "source": [
    "#Calculando a porcentagem de declínio nas vendas totais em eletrodomesticos\n",
    "eletrodomesticos=(33.10402-60.36113) /60.36113*100\n",
    "print(\"Diminuição percetual de: {:.2f}%\".format(eletrodomesticos))"
   ]
  },
  {
   "cell_type": "markdown",
   "metadata": {},
   "source": [
    "- Criando um gráfico, para melhor visualização das vendas totais por categorias."
   ]
  },
  {
   "cell_type": "markdown",
   "metadata": {},
   "source": [
    "- A categoria de eletrodomésticos representa mais de 53% das vendas, mesmo com a queda nas vendas ao longo dos anos."
   ]
  },
  {
   "cell_type": "code",
   "execution_count": 111,
   "metadata": {},
   "outputs": [
    {
     "data": {
      "image/png": "[encoded data removed]",
      "text/plain": [
       "<Figure size 1600x600 with 1 Axes>"
      ]
     },
     "metadata": {},
     "output_type": "display_data"
    }
   ],
   "source": [
    "#Agrupando em um novo dataframe para criar um grafico e analisar as vendas totais ao longo do tempo registrado nas categorias.\n",
    "rosca = df.groupby(\"Categoria\")[\"ValorVenda\"].sum().reset_index().sort_values(by = \"ValorVenda\",  ascending = False) \n",
    "# Tamanho da figura\n",
    "plt.figure(figsize = (16, 6))\n",
    "\n",
    "# Gráfico de pizza, labels, colocando a porcentagem nas categorias e o angulo.\n",
    "plt.pie(rosca[\"ValorVenda\"], \n",
    "        labels = rosca[\"Categoria\"],\n",
    "        autopct='%.1f%%', startangle = 90)\n",
    "\n",
    "#Limpando o círculo central, com um espaço em branco, para criar a aparência de uma rosca.\n",
    "centre_circle = plt.Circle((0, 0), 0.82, fc = \"white\")\n",
    "fig = plt.gcf()\n",
    "fig.gca().add_artist(centre_circle)\n",
    "\n",
    "# Título e subtítulo.\n",
    "plt.annotate(text = \"Total de Vendas: \" + \"$ \" + str(int(sum(rosca[\"ValorVenda\"]))), xy = (-0.40, 0))         #Esse codigo parece complicado, mas é só o subtítulo que vai aparecer no meio do gráfico com valor total de vendas e a posição.\n",
    "plt.title(\"Total de Vendas Por Categoria\")\n",
    "\n",
    "#Mostrar gráfico.\n",
    "plt.show()"
   ]
  },
  {
   "cell_type": "markdown",
   "metadata": {},
   "source": [
    "- Podemos notar como as vendas de Eletroportáteis estão baixas, vamos ver como estão as margem de lucro!"
   ]
  },
  {
   "cell_type": "markdown",
   "metadata": {},
   "source": [
    "- Aqui vemos como a margem de lucro dos Eletroportáteis estão abaixo dos demais produtos."
   ]
  },
  {
   "cell_type": "code",
   "execution_count": 70,
   "metadata": {},
   "outputs": [
    {
     "data": {
      "text/html": [
       "<div>\n",
       "<style scoped>\n",
       "    .dataframe tbody tr th:only-of-type {\n",
       "        vertical-align: middle;\n",
       "    }\n",
       "\n",
       "    .dataframe tbody tr th {\n",
       "        vertical-align: top;\n",
       "    }\n",
       "\n",
       "    .dataframe thead th {\n",
       "        text-align: right;\n",
       "    }\n",
       "</style>\n",
       "<table border=\"1\" class=\"dataframe\">\n",
       "  <thead>\n",
       "    <tr style=\"text-align: right;\">\n",
       "      <th></th>\n",
       "      <th>Categoria</th>\n",
       "      <th>margem_lucro(%)</th>\n",
       "    </tr>\n",
       "  </thead>\n",
       "  <tbody>\n",
       "    <tr>\n",
       "      <th>0</th>\n",
       "      <td>Celulares</td>\n",
       "      <td>91.37</td>\n",
       "    </tr>\n",
       "    <tr>\n",
       "      <th>3</th>\n",
       "      <td>Eletrônicos</td>\n",
       "      <td>81.14</td>\n",
       "    </tr>\n",
       "    <tr>\n",
       "      <th>1</th>\n",
       "      <td>Eletrodomésticos</td>\n",
       "      <td>76.56</td>\n",
       "    </tr>\n",
       "    <tr>\n",
       "      <th>2</th>\n",
       "      <td>Eletroportáteis</td>\n",
       "      <td>9.32</td>\n",
       "    </tr>\n",
       "  </tbody>\n",
       "</table>\n",
       "</div>"
      ],
      "text/plain": [
       "          Categoria  margem_lucro(%)\n",
       "0         Celulares            91.37\n",
       "3       Eletrônicos            81.14\n",
       "1  Eletrodomésticos            76.56\n",
       "2   Eletroportáteis             9.32"
      ]
     },
     "execution_count": 70,
     "metadata": {},
     "output_type": "execute_result"
    }
   ],
   "source": [
    "df.groupby(\"Categoria\")[\"margem_lucro(%)\",].mean().reset_index().sort_values(by = \"margem_lucro(%)\",  ascending = False).round(2)"
   ]
  },
  {
   "cell_type": "markdown",
   "metadata": {},
   "source": [
    "- Ainda investigando, podemos observar que nesta empresa não trabalham tanto com LG e Sony na categoria de celulares ou não são atrativos o bastante. No entanto, nos eletrodomésticos, Brastemp e Consul se destacam de forma positiva nas vendas.\n"
   ]
  },
  {
   "cell_type": "markdown",
   "metadata": {},
   "source": [
    "* Já nos eletrônicos temos o destaque da HP."
   ]
  },
  {
   "cell_type": "code",
   "execution_count": 113,
   "metadata": {},
   "outputs": [
    {
     "data": {
      "text/html": [
       "<div>\n",
       "<style scoped>\n",
       "    .dataframe tbody tr th:only-of-type {\n",
       "        vertical-align: middle;\n",
       "    }\n",
       "\n",
       "    .dataframe tbody tr th {\n",
       "        vertical-align: top;\n",
       "    }\n",
       "\n",
       "    .dataframe thead th {\n",
       "        text-align: right;\n",
       "    }\n",
       "</style>\n",
       "<table border=\"1\" class=\"dataframe\">\n",
       "  <thead>\n",
       "    <tr style=\"text-align: right;\">\n",
       "      <th></th>\n",
       "      <th></th>\n",
       "      <th>sum</th>\n",
       "    </tr>\n",
       "    <tr>\n",
       "      <th>Categoria</th>\n",
       "      <th>Fabricante</th>\n",
       "      <th></th>\n",
       "    </tr>\n",
       "  </thead>\n",
       "  <tbody>\n",
       "    <tr>\n",
       "      <th rowspan=\"4\" valign=\"top\">Celulares</th>\n",
       "      <th>LG</th>\n",
       "      <td>679.00</td>\n",
       "    </tr>\n",
       "    <tr>\n",
       "      <th>Motorola</th>\n",
       "      <td>35340.00</td>\n",
       "    </tr>\n",
       "    <tr>\n",
       "      <th>Samsung</th>\n",
       "      <td>61884.00</td>\n",
       "    </tr>\n",
       "    <tr>\n",
       "      <th>Sony</th>\n",
       "      <td>699.00</td>\n",
       "    </tr>\n",
       "    <tr>\n",
       "      <th rowspan=\"6\" valign=\"top\">Eletrodomésticos</th>\n",
       "      <th>Brastemp</th>\n",
       "      <td>92786.30</td>\n",
       "    </tr>\n",
       "    <tr>\n",
       "      <th>Consul</th>\n",
       "      <td>58897.22</td>\n",
       "    </tr>\n",
       "    <tr>\n",
       "      <th>Electrolux</th>\n",
       "      <td>6690.02</td>\n",
       "    </tr>\n",
       "    <tr>\n",
       "      <th>LG</th>\n",
       "      <td>7567.57</td>\n",
       "    </tr>\n",
       "    <tr>\n",
       "      <th>Panasonic</th>\n",
       "      <td>12775.00</td>\n",
       "    </tr>\n",
       "    <tr>\n",
       "      <th>Samsung</th>\n",
       "      <td>14606.00</td>\n",
       "    </tr>\n",
       "    <tr>\n",
       "      <th rowspan=\"3\" valign=\"top\">Eletroportáteis</th>\n",
       "      <th>Britânia</th>\n",
       "      <td>10373.45</td>\n",
       "    </tr>\n",
       "    <tr>\n",
       "      <th>LG</th>\n",
       "      <td>2436.00</td>\n",
       "    </tr>\n",
       "    <tr>\n",
       "      <th>Samsung</th>\n",
       "      <td>6246.00</td>\n",
       "    </tr>\n",
       "    <tr>\n",
       "      <th rowspan=\"4\" valign=\"top\">Eletrônicos</th>\n",
       "      <th>Dell</th>\n",
       "      <td>12823.54</td>\n",
       "    </tr>\n",
       "    <tr>\n",
       "      <th>Epson</th>\n",
       "      <td>7872.46</td>\n",
       "    </tr>\n",
       "    <tr>\n",
       "      <th>HP</th>\n",
       "      <td>18285.44</td>\n",
       "    </tr>\n",
       "    <tr>\n",
       "      <th>Sony</th>\n",
       "      <td>9348.11</td>\n",
       "    </tr>\n",
       "  </tbody>\n",
       "</table>\n",
       "</div>"
      ],
      "text/plain": [
       "                                  sum\n",
       "Categoria        Fabricante          \n",
       "Celulares        LG            679.00\n",
       "                 Motorola    35340.00\n",
       "                 Samsung     61884.00\n",
       "                 Sony          699.00\n",
       "Eletrodomésticos Brastemp    92786.30\n",
       "                 Consul      58897.22\n",
       "                 Electrolux   6690.02\n",
       "                 LG           7567.57\n",
       "                 Panasonic   12775.00\n",
       "                 Samsung     14606.00\n",
       "Eletroportáteis  Britânia    10373.45\n",
       "                 LG           2436.00\n",
       "                 Samsung      6246.00\n",
       "Eletrônicos      Dell        12823.54\n",
       "                 Epson        7872.46\n",
       "                 HP          18285.44\n",
       "                 Sony         9348.11"
      ]
     },
     "execution_count": 113,
     "metadata": {},
     "output_type": "execute_result"
    }
   ],
   "source": [
    "df.groupby([\"Categoria\" ,\"Fabricante\"])[\"ValorVenda\"].agg({\"sum\"})"
   ]
  },
  {
   "cell_type": "markdown",
   "metadata": {},
   "source": [
    "- Analisando a quantidade de produtos vendidos por fabricante."
   ]
  },
  {
   "cell_type": "code",
   "execution_count": 148,
   "metadata": {},
   "outputs": [
    {
     "data": {
      "text/plain": [
       "Fabricante\n",
       "Brastemp      90\n",
       "Consul        82\n",
       "Samsung       74\n",
       "Britânia      61\n",
       "HP            29\n",
       "Motorola      29\n",
       "LG            27\n",
       "Panasonic     26\n",
       "Epson         12\n",
       "Dell          10\n",
       "Sony          10\n",
       "Electrolux     7\n",
       "Name: count, dtype: int64"
      ]
     },
     "execution_count": 148,
     "metadata": {},
     "output_type": "execute_result"
    }
   ],
   "source": [
    "#Quantidade de vendas por fabricante\n",
    "df[\"Fabricante\"].value_counts()"
   ]
  },
  {
   "cell_type": "markdown",
   "metadata": {},
   "source": [
    "- Grafico de barras, para visualizar a média de venda por produto para cada fabricante."
   ]
  },
  {
   "cell_type": "code",
   "execution_count": 149,
   "metadata": {},
   "outputs": [
    {
     "data": {
      "image/png": "[encoded data removed]",
      "text/plain": [
       "<Figure size 1600x600 with 1 Axes>"
      ]
     },
     "metadata": {},
     "output_type": "display_data"
    }
   ],
   "source": [
    "#Odenando um dataframe para criar um grafico de barras.\n",
    "barras= df.groupby(\"Fabricante\")[\"ValorVenda\"].mean().reset_index().sort_values(by = \"ValorVenda\",  ascending = False)\n",
    "\n",
    "#Tamanho da figura.\n",
    "plt.figure(figsize = (16, 6))   \n",
    "\n",
    "#Gráfico de barras\n",
    "plt.bar(barras[\"Fabricante\"], barras[\"ValorVenda\"])\n",
    "\n",
    "#Titulo y e título príncipal\n",
    "plt.ylabel(\"Valor médio de vendas\")\n",
    "plt.title(\"Valor Médio de Produtos por Fabricante\")\n",
    "\n",
    "#Mostrar gráfico.\n",
    "plt.show()"
   ]
  },
  {
   "cell_type": "markdown",
   "metadata": {},
   "source": [
    "- Checando a quantidade de produtos vendidos por segmento."
   ]
  },
  {
   "cell_type": "markdown",
   "metadata": {},
   "source": [
    "- Informações sobre o valor médio de produtos por categoria em anos, apresentadas em ordem decrescente para facilitar a análise."
   ]
  },
  {
   "cell_type": "code",
   "execution_count": 150,
   "metadata": {},
   "outputs": [
    {
     "data": {
      "text/html": [
       "<div>\n",
       "<style scoped>\n",
       "    .dataframe tbody tr th:only-of-type {\n",
       "        vertical-align: middle;\n",
       "    }\n",
       "\n",
       "    .dataframe tbody tr th {\n",
       "        vertical-align: top;\n",
       "    }\n",
       "\n",
       "    .dataframe thead th {\n",
       "        text-align: right;\n",
       "    }\n",
       "</style>\n",
       "<table border=\"1\" class=\"dataframe\">\n",
       "  <thead>\n",
       "    <tr style=\"text-align: right;\">\n",
       "      <th></th>\n",
       "      <th>Ano</th>\n",
       "      <th>Segmento</th>\n",
       "      <th>ValorVenda</th>\n",
       "    </tr>\n",
       "  </thead>\n",
       "  <tbody>\n",
       "    <tr>\n",
       "      <th>6</th>\n",
       "      <td>2014</td>\n",
       "      <td>Corporativo</td>\n",
       "      <td>3999.00</td>\n",
       "    </tr>\n",
       "    <tr>\n",
       "      <th>8</th>\n",
       "      <td>2015</td>\n",
       "      <td>Corporativo</td>\n",
       "      <td>3999.00</td>\n",
       "    </tr>\n",
       "    <tr>\n",
       "      <th>3</th>\n",
       "      <td>2013</td>\n",
       "      <td>Corporativo</td>\n",
       "      <td>1488.60</td>\n",
       "    </tr>\n",
       "    <tr>\n",
       "      <th>5</th>\n",
       "      <td>2013</td>\n",
       "      <td>Industrial</td>\n",
       "      <td>1291.20</td>\n",
       "    </tr>\n",
       "    <tr>\n",
       "      <th>0</th>\n",
       "      <td>2012</td>\n",
       "      <td>Corporativo</td>\n",
       "      <td>1202.82</td>\n",
       "    </tr>\n",
       "    <tr>\n",
       "      <th>10</th>\n",
       "      <td>2015</td>\n",
       "      <td>Industrial</td>\n",
       "      <td>1128.00</td>\n",
       "    </tr>\n",
       "    <tr>\n",
       "      <th>1</th>\n",
       "      <td>2012</td>\n",
       "      <td>Doméstico</td>\n",
       "      <td>856.32</td>\n",
       "    </tr>\n",
       "    <tr>\n",
       "      <th>4</th>\n",
       "      <td>2013</td>\n",
       "      <td>Doméstico</td>\n",
       "      <td>680.35</td>\n",
       "    </tr>\n",
       "    <tr>\n",
       "      <th>7</th>\n",
       "      <td>2014</td>\n",
       "      <td>Doméstico</td>\n",
       "      <td>601.76</td>\n",
       "    </tr>\n",
       "    <tr>\n",
       "      <th>9</th>\n",
       "      <td>2015</td>\n",
       "      <td>Doméstico</td>\n",
       "      <td>598.28</td>\n",
       "    </tr>\n",
       "    <tr>\n",
       "      <th>2</th>\n",
       "      <td>2012</td>\n",
       "      <td>Industrial</td>\n",
       "      <td>459.00</td>\n",
       "    </tr>\n",
       "  </tbody>\n",
       "</table>\n",
       "</div>"
      ],
      "text/plain": [
       "     Ano     Segmento  ValorVenda\n",
       "6   2014  Corporativo     3999.00\n",
       "8   2015  Corporativo     3999.00\n",
       "3   2013  Corporativo     1488.60\n",
       "5   2013   Industrial     1291.20\n",
       "0   2012  Corporativo     1202.82\n",
       "10  2015   Industrial     1128.00\n",
       "1   2012    Doméstico      856.32\n",
       "4   2013    Doméstico      680.35\n",
       "7   2014    Doméstico      601.76\n",
       "9   2015    Doméstico      598.28\n",
       "2   2012   Industrial      459.00"
      ]
     },
     "execution_count": 150,
     "metadata": {},
     "output_type": "execute_result"
    }
   ],
   "source": [
    "#Agrupando.\n",
    "df.groupby([\"Ano\",\"Segmento\"])[\"ValorVenda\",].mean().reset_index().sort_values(by = \"ValorVenda\",  ascending = False).round(2)"
   ]
  },
  {
   "cell_type": "markdown",
   "metadata": {},
   "source": [
    "- Visualizando o total de vendas por seguimentos,"
   ]
  },
  {
   "cell_type": "code",
   "execution_count": 151,
   "metadata": {},
   "outputs": [
    {
     "data": {
      "image/png": "[encoded data removed]",
      "text/plain": [
       "<Figure size 1500x800 with 1 Axes>"
      ]
     },
     "metadata": {},
     "output_type": "display_data"
    }
   ],
   "source": [
    "# criando dataframe\n",
    "pizza = df.groupby(\"Segmento\")[\"ValorVenda\"].sum().reset_index().sort_values(by = \"ValorVenda\",  ascending = False)\n",
    "\n",
    "#Tamanho da figura.\n",
    "plt.figure(figsize = (15, 8))\n",
    "\n",
    "#Gráfico de pizza.\n",
    "plt.pie(pizza[\"ValorVenda\"], \n",
    "        labels = pizza[\"Segmento\"],\n",
    "        autopct='%.1f%%', startangle = 90)\n",
    "#Título de mostrar gráfico.\n",
    "plt.title(\"Valor Total de Vendas por Segmento em porcentagem\")\n",
    "plt.show()       "
   ]
  },
  {
   "cell_type": "markdown",
   "metadata": {},
   "source": [
    "- As sete lojas com melhores desempenhos em vendas da empresa."
   ]
  },
  {
   "cell_type": "code",
   "execution_count": 152,
   "metadata": {},
   "outputs": [
    {
     "data": {
      "text/html": [
       "<div>\n",
       "<style scoped>\n",
       "    .dataframe tbody tr th:only-of-type {\n",
       "        vertical-align: middle;\n",
       "    }\n",
       "\n",
       "    .dataframe tbody tr th {\n",
       "        vertical-align: top;\n",
       "    }\n",
       "\n",
       "    .dataframe thead th {\n",
       "        text-align: right;\n",
       "    }\n",
       "</style>\n",
       "<table border=\"1\" class=\"dataframe\">\n",
       "  <thead>\n",
       "    <tr style=\"text-align: right;\">\n",
       "      <th></th>\n",
       "      <th>Loja</th>\n",
       "      <th>ValorVenda</th>\n",
       "    </tr>\n",
       "  </thead>\n",
       "  <tbody>\n",
       "    <tr>\n",
       "      <th>11</th>\n",
       "      <td>SP8822</td>\n",
       "      <td>87888.88</td>\n",
       "    </tr>\n",
       "    <tr>\n",
       "      <th>5</th>\n",
       "      <td>R1296</td>\n",
       "      <td>50843.66</td>\n",
       "    </tr>\n",
       "    <tr>\n",
       "      <th>4</th>\n",
       "      <td>R1295</td>\n",
       "      <td>48905.90</td>\n",
       "    </tr>\n",
       "    <tr>\n",
       "      <th>10</th>\n",
       "      <td>SP8821</td>\n",
       "      <td>39292.99</td>\n",
       "    </tr>\n",
       "    <tr>\n",
       "      <th>12</th>\n",
       "      <td>SP8823</td>\n",
       "      <td>35903.69</td>\n",
       "    </tr>\n",
       "    <tr>\n",
       "      <th>0</th>\n",
       "      <td>A9990</td>\n",
       "      <td>28282.87</td>\n",
       "    </tr>\n",
       "    <tr>\n",
       "      <th>13</th>\n",
       "      <td>V7654</td>\n",
       "      <td>24803.77</td>\n",
       "    </tr>\n",
       "  </tbody>\n",
       "</table>\n",
       "</div>"
      ],
      "text/plain": [
       "      Loja  ValorVenda\n",
       "11  SP8822    87888.88\n",
       "5    R1296    50843.66\n",
       "4    R1295    48905.90\n",
       "10  SP8821    39292.99\n",
       "12  SP8823    35903.69\n",
       "0    A9990    28282.87\n",
       "13   V7654    24803.77"
      ]
     },
     "execution_count": 152,
     "metadata": {},
     "output_type": "execute_result"
    }
   ],
   "source": [
    "#Ordenando com agrupamento.\n",
    "df.groupby(\"Loja\")[\"ValorVenda\"].sum().reset_index().sort_values(by = \"ValorVenda\",  ascending = False).head(7)"
   ]
  },
  {
   "cell_type": "markdown",
   "metadata": {},
   "source": [
    "- As sete lojas com piores desempenhos em vendas da empresa."
   ]
  },
  {
   "cell_type": "code",
   "execution_count": 153,
   "metadata": {},
   "outputs": [
    {
     "data": {
      "text/html": [
       "<div>\n",
       "<style scoped>\n",
       "    .dataframe tbody tr th:only-of-type {\n",
       "        vertical-align: middle;\n",
       "    }\n",
       "\n",
       "    .dataframe tbody tr th {\n",
       "        vertical-align: top;\n",
       "    }\n",
       "\n",
       "    .dataframe thead th {\n",
       "        text-align: right;\n",
       "    }\n",
       "</style>\n",
       "<table border=\"1\" class=\"dataframe\">\n",
       "  <thead>\n",
       "    <tr style=\"text-align: right;\">\n",
       "      <th></th>\n",
       "      <th>Loja</th>\n",
       "      <th>ValorVenda</th>\n",
       "    </tr>\n",
       "  </thead>\n",
       "  <tbody>\n",
       "    <tr>\n",
       "      <th>8</th>\n",
       "      <td>S6543</td>\n",
       "      <td>12621.00</td>\n",
       "    </tr>\n",
       "    <tr>\n",
       "      <th>1</th>\n",
       "      <td>A9991</td>\n",
       "      <td>10016.00</td>\n",
       "    </tr>\n",
       "    <tr>\n",
       "      <th>2</th>\n",
       "      <td>B7659</td>\n",
       "      <td>7998.00</td>\n",
       "    </tr>\n",
       "    <tr>\n",
       "      <th>7</th>\n",
       "      <td>R1298</td>\n",
       "      <td>5031.00</td>\n",
       "    </tr>\n",
       "    <tr>\n",
       "      <th>9</th>\n",
       "      <td>SA7761</td>\n",
       "      <td>2940.00</td>\n",
       "    </tr>\n",
       "    <tr>\n",
       "      <th>6</th>\n",
       "      <td>R1297</td>\n",
       "      <td>2515.45</td>\n",
       "    </tr>\n",
       "    <tr>\n",
       "      <th>3</th>\n",
       "      <td>P0761</td>\n",
       "      <td>2265.90</td>\n",
       "    </tr>\n",
       "  </tbody>\n",
       "</table>\n",
       "</div>"
      ],
      "text/plain": [
       "     Loja  ValorVenda\n",
       "8   S6543    12621.00\n",
       "1   A9991    10016.00\n",
       "2   B7659     7998.00\n",
       "7   R1298     5031.00\n",
       "9  SA7761     2940.00\n",
       "6   R1297     2515.45\n",
       "3   P0761     2265.90"
      ]
     },
     "execution_count": 153,
     "metadata": {},
     "output_type": "execute_result"
    }
   ],
   "source": [
    "#Ordenando com agrupamento.\n",
    "df.groupby(\"Loja\")[\"ValorVenda\"].sum().reset_index().sort_values(by = \"ValorVenda\",  ascending = False).tail(7)"
   ]
  },
  {
   "cell_type": "markdown",
   "metadata": {},
   "source": [
    "- Quantidades de vendas anuais por cidade."
   ]
  },
  {
   "cell_type": "code",
   "execution_count": 155,
   "metadata": {},
   "outputs": [
    {
     "data": {
      "text/plain": [
       "Ano   Cidade        \n",
       "2012  Belo Horizonte     5445.87\n",
       "      Rio de Janeiro     5025.89\n",
       "      São Paulo         23874.21\n",
       "      Vitória            3157.77\n",
       "2013  Belo Horizonte    16610.00\n",
       "      Cascavel           1263.90\n",
       "      Rio de Janeiro     3860.00\n",
       "      Salvador           2698.00\n",
       "      São Paulo         56009.66\n",
       "      Vitória           12977.00\n",
       "2014  Belo Horizonte     2599.00\n",
       "      Campos              149.00\n",
       "      Petrópolis          614.00\n",
       "      Rio de Janeiro    27469.90\n",
       "      São Paulo         32023.12\n",
       "      Vitória             467.00\n",
       "2015  Belo Horizonte    13644.00\n",
       "      Campinas           7998.00\n",
       "      Campos             4882.00\n",
       "      Cascavel           1002.00\n",
       "      Osasco            12621.00\n",
       "      Petrópolis         1901.45\n",
       "      Rio de Janeiro    63393.77\n",
       "      Salvador            242.00\n",
       "      São Paulo         51178.57\n",
       "      Vitória            8202.00\n",
       "Name: ValorVenda, dtype: float64"
      ]
     },
     "execution_count": 155,
     "metadata": {},
     "output_type": "execute_result"
    }
   ],
   "source": [
    "#Agrupando por ano e cidade para o valor venda.\n",
    "df.groupby([\"Ano\", \"Cidade\"])[\"ValorVenda\"].sum()"
   ]
  },
  {
   "cell_type": "markdown",
   "metadata": {},
   "source": [
    "- Valor de venda totais por cidade"
   ]
  },
  {
   "cell_type": "code",
   "execution_count": 156,
   "metadata": {},
   "outputs": [
    {
     "data": {
      "image/png": "[encoded data removed]",
      "text/plain": [
       "<Figure size 1600x600 with 1 Axes>"
      ]
     },
     "metadata": {},
     "output_type": "display_data"
    }
   ],
   "source": [
    "dfcidades=df.groupby(\"Cidade\")[\"ValorVenda\"].sum().reset_index().sort_values(by = \"ValorVenda\",  ascending = False).head(10) \n",
    "\n",
    "#Tamanho da figura.\n",
    "plt.figure(figsize=(16, 6))  # Ajusta o tamanho da figura conforme necessário\n",
    "\n",
    "#Gráfico de barras com cor.\n",
    "plt.bar(dfcidades[\"Cidade\"], dfcidades[\"ValorVenda\"], color='skyblue')\n",
    "plt.xticks(rotation=45, ha=\"right\")  # Rotaciona os rótulos do eixo X para melhor legibilidade\n",
    "\n",
    "#Labels e titulo\n",
    "plt.xlabel(\"Cidades\")\n",
    "plt.ylabel(\"Valor Total de Vendas(mil)\")\n",
    "plt.title(\"Top 10 Cidades por Valor Total de Vendas\")\n",
    "plt.show()"
   ]
  },
  {
   "cell_type": "markdown",
   "metadata": {},
   "source": [
    "- Produtos mais vendidos"
   ]
  },
  {
   "cell_type": "code",
   "execution_count": 157,
   "metadata": {},
   "outputs": [
    {
     "data": {
      "text/plain": [
       "Produto\n",
       "Geladeira Duplex            110\n",
       "Aspirador                    61\n",
       "Micro-Ondas                  56\n",
       "Impressora Deskjet           36\n",
       "Morotola Moto G5             29\n",
       "Ventilador                   22\n",
       "Fritadeira                   20\n",
       "Lavadora 11 Kg               16\n",
       "Samsung Galaxy 8             16\n",
       "Processador de Alimentos     13\n",
       "Ar Condicionado              12\n",
       "Secadora Vapor               12\n",
       "Forno-Micro-Ondas            11\n",
       "Notebook Dell 8 GB           10\n",
       "Desktop 32 GB                10\n",
       "Grill                         9\n",
       "Liquidificador                8\n",
       "Desktop HP 16 GB              4\n",
       "Sony Experia XA               1\n",
       "LG K10 TV Power               1\n",
       "Name: count, dtype: int64"
      ]
     },
     "execution_count": 157,
     "metadata": {},
     "output_type": "execute_result"
    }
   ],
   "source": [
    "df[\"Produto\"].value_counts()"
   ]
  },
  {
   "cell_type": "markdown",
   "metadata": {},
   "source": [
    "- Maiores vendas de produtos em 2012."
   ]
  },
  {
   "cell_type": "code",
   "execution_count": 158,
   "metadata": {},
   "outputs": [
    {
     "data": {
      "text/html": [
       "<div>\n",
       "<style scoped>\n",
       "    .dataframe tbody tr th:only-of-type {\n",
       "        vertical-align: middle;\n",
       "    }\n",
       "\n",
       "    .dataframe tbody tr th {\n",
       "        vertical-align: top;\n",
       "    }\n",
       "\n",
       "    .dataframe thead th {\n",
       "        text-align: right;\n",
       "    }\n",
       "</style>\n",
       "<table border=\"1\" class=\"dataframe\">\n",
       "  <thead>\n",
       "    <tr style=\"text-align: right;\">\n",
       "      <th></th>\n",
       "      <th>Ano</th>\n",
       "      <th>Produto</th>\n",
       "      <th>ValorVenda</th>\n",
       "    </tr>\n",
       "  </thead>\n",
       "  <tbody>\n",
       "    <tr>\n",
       "      <th>7</th>\n",
       "      <td>2012</td>\n",
       "      <td>Notebook Dell 8 GB</td>\n",
       "      <td>12823.54</td>\n",
       "    </tr>\n",
       "    <tr>\n",
       "      <th>2</th>\n",
       "      <td>2012</td>\n",
       "      <td>Geladeira Duplex</td>\n",
       "      <td>12070.89</td>\n",
       "    </tr>\n",
       "    <tr>\n",
       "      <th>6</th>\n",
       "      <td>2012</td>\n",
       "      <td>Micro-Ondas</td>\n",
       "      <td>5611.00</td>\n",
       "    </tr>\n",
       "    <tr>\n",
       "      <th>5</th>\n",
       "      <td>2012</td>\n",
       "      <td>Lavadora 11 Kg</td>\n",
       "      <td>2606.19</td>\n",
       "    </tr>\n",
       "    <tr>\n",
       "      <th>0</th>\n",
       "      <td>2012</td>\n",
       "      <td>Desktop 32 GB</td>\n",
       "      <td>2134.12</td>\n",
       "    </tr>\n",
       "    <tr>\n",
       "      <th>1</th>\n",
       "      <td>2012</td>\n",
       "      <td>Forno-Micro-Ondas</td>\n",
       "      <td>1345.00</td>\n",
       "    </tr>\n",
       "    <tr>\n",
       "      <th>4</th>\n",
       "      <td>2012</td>\n",
       "      <td>LG K10 TV Power</td>\n",
       "      <td>679.00</td>\n",
       "    </tr>\n",
       "    <tr>\n",
       "      <th>3</th>\n",
       "      <td>2012</td>\n",
       "      <td>Grill</td>\n",
       "      <td>234.00</td>\n",
       "    </tr>\n",
       "  </tbody>\n",
       "</table>\n",
       "</div>"
      ],
      "text/plain": [
       "    Ano             Produto  ValorVenda\n",
       "7  2012  Notebook Dell 8 GB    12823.54\n",
       "2  2012    Geladeira Duplex    12070.89\n",
       "6  2012         Micro-Ondas     5611.00\n",
       "5  2012      Lavadora 11 Kg     2606.19\n",
       "0  2012       Desktop 32 GB     2134.12\n",
       "1  2012   Forno-Micro-Ondas     1345.00\n",
       "4  2012     LG K10 TV Power      679.00\n",
       "3  2012               Grill      234.00"
      ]
     },
     "execution_count": 158,
     "metadata": {},
     "output_type": "execute_result"
    }
   ],
   "source": [
    "#2012\n",
    "df_2012 = df[df[\"Ano\"] == 2012]\n",
    "df_2012.groupby([\"Ano\", \"Produto\"])[\"ValorVenda\"].sum().reset_index().sort_values(by = \"ValorVenda\",  ascending = False)"
   ]
  },
  {
   "cell_type": "markdown",
   "metadata": {},
   "source": [
    "- Notebook Delll de 8GB teve uma uma queda muito grande, não aparecendo nem entre as 14 principais vendas do ano de 2013."
   ]
  },
  {
   "cell_type": "markdown",
   "metadata": {},
   "source": [
    "- Já a Geladeira Duplex aumentou as vendas em aproximadamente 146.59% como podemos ver abaixo."
   ]
  },
  {
   "cell_type": "code",
   "execution_count": 159,
   "metadata": {},
   "outputs": [
    {
     "name": "stdout",
     "output_type": "stream",
     "text": [
      "Aumento percentual de vendas da Geladeira Duplex de 2012 para 2013 foi de: 146.59%\n"
     ]
    }
   ],
   "source": [
    "#Calculando porcentagem.\n",
    "geladeiraduplex=(29765.56-12070.89) /12070.89*100\n",
    "print(\"Aumento percentual de vendas da Geladeira Duplex de 2012 para 2013 foi de: {:.2f}%\".format(geladeiraduplex))"
   ]
  },
  {
   "cell_type": "code",
   "execution_count": 160,
   "metadata": {},
   "outputs": [
    {
     "data": {
      "text/html": [
       "<div>\n",
       "<style scoped>\n",
       "    .dataframe tbody tr th:only-of-type {\n",
       "        vertical-align: middle;\n",
       "    }\n",
       "\n",
       "    .dataframe tbody tr th {\n",
       "        vertical-align: top;\n",
       "    }\n",
       "\n",
       "    .dataframe thead th {\n",
       "        text-align: right;\n",
       "    }\n",
       "</style>\n",
       "<table border=\"1\" class=\"dataframe\">\n",
       "  <thead>\n",
       "    <tr style=\"text-align: right;\">\n",
       "      <th></th>\n",
       "      <th>Ano</th>\n",
       "      <th>Produto</th>\n",
       "      <th>ValorVenda</th>\n",
       "    </tr>\n",
       "  </thead>\n",
       "  <tbody>\n",
       "    <tr>\n",
       "      <th>6</th>\n",
       "      <td>2013</td>\n",
       "      <td>Geladeira Duplex</td>\n",
       "      <td>29765.56</td>\n",
       "    </tr>\n",
       "    <tr>\n",
       "      <th>9</th>\n",
       "      <td>2013</td>\n",
       "      <td>Lavadora 11 Kg</td>\n",
       "      <td>10503.57</td>\n",
       "    </tr>\n",
       "    <tr>\n",
       "      <th>11</th>\n",
       "      <td>2013</td>\n",
       "      <td>Samsung Galaxy 8</td>\n",
       "      <td>9897.00</td>\n",
       "    </tr>\n",
       "    <tr>\n",
       "      <th>12</th>\n",
       "      <td>2013</td>\n",
       "      <td>Secadora Vapor</td>\n",
       "      <td>7976.11</td>\n",
       "    </tr>\n",
       "    <tr>\n",
       "      <th>2</th>\n",
       "      <td>2013</td>\n",
       "      <td>Desktop 32 GB</td>\n",
       "      <td>7589.99</td>\n",
       "    </tr>\n",
       "    <tr>\n",
       "      <th>8</th>\n",
       "      <td>2013</td>\n",
       "      <td>Impressora Deskjet</td>\n",
       "      <td>7077.44</td>\n",
       "    </tr>\n",
       "    <tr>\n",
       "      <th>0</th>\n",
       "      <td>2013</td>\n",
       "      <td>Ar Condicionado</td>\n",
       "      <td>6456.00</td>\n",
       "    </tr>\n",
       "    <tr>\n",
       "      <th>3</th>\n",
       "      <td>2013</td>\n",
       "      <td>Desktop HP 16 GB</td>\n",
       "      <td>4842.00</td>\n",
       "    </tr>\n",
       "    <tr>\n",
       "      <th>4</th>\n",
       "      <td>2013</td>\n",
       "      <td>Forno-Micro-Ondas</td>\n",
       "      <td>3037.89</td>\n",
       "    </tr>\n",
       "    <tr>\n",
       "      <th>1</th>\n",
       "      <td>2013</td>\n",
       "      <td>Aspirador</td>\n",
       "      <td>2655.00</td>\n",
       "    </tr>\n",
       "    <tr>\n",
       "      <th>10</th>\n",
       "      <td>2013</td>\n",
       "      <td>Micro-Ondas</td>\n",
       "      <td>2145.00</td>\n",
       "    </tr>\n",
       "    <tr>\n",
       "      <th>13</th>\n",
       "      <td>2013</td>\n",
       "      <td>Sony Experia XA</td>\n",
       "      <td>699.00</td>\n",
       "    </tr>\n",
       "    <tr>\n",
       "      <th>7</th>\n",
       "      <td>2013</td>\n",
       "      <td>Grill</td>\n",
       "      <td>477.00</td>\n",
       "    </tr>\n",
       "    <tr>\n",
       "      <th>5</th>\n",
       "      <td>2013</td>\n",
       "      <td>Fritadeira</td>\n",
       "      <td>297.00</td>\n",
       "    </tr>\n",
       "  </tbody>\n",
       "</table>\n",
       "</div>"
      ],
      "text/plain": [
       "     Ano             Produto  ValorVenda\n",
       "6   2013    Geladeira Duplex    29765.56\n",
       "9   2013      Lavadora 11 Kg    10503.57\n",
       "11  2013    Samsung Galaxy 8     9897.00\n",
       "12  2013      Secadora Vapor     7976.11\n",
       "2   2013       Desktop 32 GB     7589.99\n",
       "8   2013  Impressora Deskjet     7077.44\n",
       "0   2013     Ar Condicionado     6456.00\n",
       "3   2013    Desktop HP 16 GB     4842.00\n",
       "4   2013   Forno-Micro-Ondas     3037.89\n",
       "1   2013           Aspirador     2655.00\n",
       "10  2013         Micro-Ondas     2145.00\n",
       "13  2013     Sony Experia XA      699.00\n",
       "7   2013               Grill      477.00\n",
       "5   2013          Fritadeira      297.00"
      ]
     },
     "execution_count": 160,
     "metadata": {},
     "output_type": "execute_result"
    }
   ],
   "source": [
    "#2013.\n",
    "df_2013 = df[df[\"Ano\"] == 2013]\n",
    "df_2013.groupby([\"Ano\", \"Produto\"])[\"ValorVenda\"].sum().reset_index().sort_values(by = \"ValorVenda\",  ascending = False)"
   ]
  },
  {
   "cell_type": "markdown",
   "metadata": {},
   "source": [
    "- A venda de Geladeira Duplex teve uma queda em relação a 2013, enquanto as vendas de Samsung Galaxy 8  teve um aumento considerável no mesmo período de 102,03%."
   ]
  },
  {
   "cell_type": "code",
   "execution_count": 161,
   "metadata": {},
   "outputs": [
    {
     "name": "stdout",
     "output_type": "stream",
     "text": [
      "Aumento percentual de vendas de Samsgung Galaxy 8 foi de: 102.03%\n"
     ]
    }
   ],
   "source": [
    "#Calculando porcentagem.\n",
    "celulargalaxy=(19995.00-9897.00) /9897.00*100\n",
    "print(\"Aumento percentual de vendas de Samsgung Galaxy 8 foi de: {:.2f}%\".format(celulargalaxy))"
   ]
  },
  {
   "cell_type": "code",
   "execution_count": 162,
   "metadata": {},
   "outputs": [
    {
     "data": {
      "text/html": [
       "<div>\n",
       "<style scoped>\n",
       "    .dataframe tbody tr th:only-of-type {\n",
       "        vertical-align: middle;\n",
       "    }\n",
       "\n",
       "    .dataframe tbody tr th {\n",
       "        vertical-align: top;\n",
       "    }\n",
       "\n",
       "    .dataframe thead th {\n",
       "        text-align: right;\n",
       "    }\n",
       "</style>\n",
       "<table border=\"1\" class=\"dataframe\">\n",
       "  <thead>\n",
       "    <tr style=\"text-align: right;\">\n",
       "      <th></th>\n",
       "      <th>Ano</th>\n",
       "      <th>Produto</th>\n",
       "      <th>ValorVenda</th>\n",
       "    </tr>\n",
       "  </thead>\n",
       "  <tbody>\n",
       "    <tr>\n",
       "      <th>3</th>\n",
       "      <td>2014</td>\n",
       "      <td>Geladeira Duplex</td>\n",
       "      <td>23503.00</td>\n",
       "    </tr>\n",
       "    <tr>\n",
       "      <th>8</th>\n",
       "      <td>2014</td>\n",
       "      <td>Samsung Galaxy 8</td>\n",
       "      <td>19995.00</td>\n",
       "    </tr>\n",
       "    <tr>\n",
       "      <th>5</th>\n",
       "      <td>2014</td>\n",
       "      <td>Micro-Ondas</td>\n",
       "      <td>6195.12</td>\n",
       "    </tr>\n",
       "    <tr>\n",
       "      <th>6</th>\n",
       "      <td>2014</td>\n",
       "      <td>Morotola Moto G5</td>\n",
       "      <td>6150.00</td>\n",
       "    </tr>\n",
       "    <tr>\n",
       "      <th>0</th>\n",
       "      <td>2014</td>\n",
       "      <td>Aspirador</td>\n",
       "      <td>3013.00</td>\n",
       "    </tr>\n",
       "    <tr>\n",
       "      <th>1</th>\n",
       "      <td>2014</td>\n",
       "      <td>Forno-Micro-Ondas</td>\n",
       "      <td>2217.90</td>\n",
       "    </tr>\n",
       "    <tr>\n",
       "      <th>4</th>\n",
       "      <td>2014</td>\n",
       "      <td>Grill</td>\n",
       "      <td>1188.00</td>\n",
       "    </tr>\n",
       "    <tr>\n",
       "      <th>2</th>\n",
       "      <td>2014</td>\n",
       "      <td>Fritadeira</td>\n",
       "      <td>911.00</td>\n",
       "    </tr>\n",
       "    <tr>\n",
       "      <th>7</th>\n",
       "      <td>2014</td>\n",
       "      <td>Processador de Alimentos</td>\n",
       "      <td>149.00</td>\n",
       "    </tr>\n",
       "  </tbody>\n",
       "</table>\n",
       "</div>"
      ],
      "text/plain": [
       "    Ano                   Produto  ValorVenda\n",
       "3  2014          Geladeira Duplex    23503.00\n",
       "8  2014          Samsung Galaxy 8    19995.00\n",
       "5  2014               Micro-Ondas     6195.12\n",
       "6  2014          Morotola Moto G5     6150.00\n",
       "0  2014                 Aspirador     3013.00\n",
       "1  2014         Forno-Micro-Ondas     2217.90\n",
       "4  2014                     Grill     1188.00\n",
       "2  2014                Fritadeira      911.00\n",
       "7  2014  Processador de Alimentos      149.00"
      ]
     },
     "execution_count": 162,
     "metadata": {},
     "output_type": "execute_result"
    }
   ],
   "source": [
    "#2014.\n",
    "df_2014 = df[df[\"Ano\"] == 2014]\n",
    "df_2014.groupby([\"Ano\", \"Produto\"])[\"ValorVenda\"].sum().reset_index().sort_values(by = \"ValorVenda\",  ascending = False)"
   ]
  },
  {
   "cell_type": "markdown",
   "metadata": {},
   "source": [
    "- Geladeira Duplex continua como um bom destaque "
   ]
  },
  {
   "cell_type": "code",
   "execution_count": 163,
   "metadata": {},
   "outputs": [
    {
     "name": "stdout",
     "output_type": "stream",
     "text": [
      "Aumento percentual de vendas da Geladeira Duplex de 2012 para 2013 foi de: 134.20%\n"
     ]
    }
   ],
   "source": [
    "geladeiraduplex2015=(55042.87-23503.00) /23503.007*100\n",
    "print(\"Aumento percentual de vendas da Geladeira Duplex de 2012 para 2013 foi de: {:.2f}%\".format(geladeiraduplex2015))"
   ]
  },
  {
   "cell_type": "code",
   "execution_count": 164,
   "metadata": {},
   "outputs": [
    {
     "data": {
      "text/html": [
       "<div>\n",
       "<style scoped>\n",
       "    .dataframe tbody tr th:only-of-type {\n",
       "        vertical-align: middle;\n",
       "    }\n",
       "\n",
       "    .dataframe tbody tr th {\n",
       "        vertical-align: top;\n",
       "    }\n",
       "\n",
       "    .dataframe thead th {\n",
       "        text-align: right;\n",
       "    }\n",
       "</style>\n",
       "<table border=\"1\" class=\"dataframe\">\n",
       "  <thead>\n",
       "    <tr style=\"text-align: right;\">\n",
       "      <th></th>\n",
       "      <th>Ano</th>\n",
       "      <th>Produto</th>\n",
       "      <th>ValorVenda</th>\n",
       "    </tr>\n",
       "  </thead>\n",
       "  <tbody>\n",
       "    <tr>\n",
       "      <th>3</th>\n",
       "      <td>2015</td>\n",
       "      <td>Geladeira Duplex</td>\n",
       "      <td>55042.87</td>\n",
       "    </tr>\n",
       "    <tr>\n",
       "      <th>9</th>\n",
       "      <td>2015</td>\n",
       "      <td>Samsung Galaxy 8</td>\n",
       "      <td>31992.00</td>\n",
       "    </tr>\n",
       "    <tr>\n",
       "      <th>7</th>\n",
       "      <td>2015</td>\n",
       "      <td>Morotola Moto G5</td>\n",
       "      <td>29190.00</td>\n",
       "    </tr>\n",
       "    <tr>\n",
       "      <th>6</th>\n",
       "      <td>2015</td>\n",
       "      <td>Micro-Ondas</td>\n",
       "      <td>14797.01</td>\n",
       "    </tr>\n",
       "    <tr>\n",
       "      <th>4</th>\n",
       "      <td>2015</td>\n",
       "      <td>Impressora Deskjet</td>\n",
       "      <td>13862.46</td>\n",
       "    </tr>\n",
       "    <tr>\n",
       "      <th>0</th>\n",
       "      <td>2015</td>\n",
       "      <td>Ar Condicionado</td>\n",
       "      <td>8150.00</td>\n",
       "    </tr>\n",
       "    <tr>\n",
       "      <th>1</th>\n",
       "      <td>2015</td>\n",
       "      <td>Aspirador</td>\n",
       "      <td>4705.45</td>\n",
       "    </tr>\n",
       "    <tr>\n",
       "      <th>10</th>\n",
       "      <td>2015</td>\n",
       "      <td>Ventilador</td>\n",
       "      <td>2934.00</td>\n",
       "    </tr>\n",
       "    <tr>\n",
       "      <th>8</th>\n",
       "      <td>2015</td>\n",
       "      <td>Processador de Alimentos</td>\n",
       "      <td>1788.00</td>\n",
       "    </tr>\n",
       "    <tr>\n",
       "      <th>2</th>\n",
       "      <td>2015</td>\n",
       "      <td>Fritadeira</td>\n",
       "      <td>1467.00</td>\n",
       "    </tr>\n",
       "    <tr>\n",
       "      <th>5</th>\n",
       "      <td>2015</td>\n",
       "      <td>Liquidificador</td>\n",
       "      <td>1136.00</td>\n",
       "    </tr>\n",
       "  </tbody>\n",
       "</table>\n",
       "</div>"
      ],
      "text/plain": [
       "     Ano                   Produto  ValorVenda\n",
       "3   2015          Geladeira Duplex    55042.87\n",
       "9   2015          Samsung Galaxy 8    31992.00\n",
       "7   2015          Morotola Moto G5    29190.00\n",
       "6   2015               Micro-Ondas    14797.01\n",
       "4   2015        Impressora Deskjet    13862.46\n",
       "0   2015           Ar Condicionado     8150.00\n",
       "1   2015                 Aspirador     4705.45\n",
       "10  2015                Ventilador     2934.00\n",
       "8   2015  Processador de Alimentos     1788.00\n",
       "2   2015                Fritadeira     1467.00\n",
       "5   2015            Liquidificador     1136.00"
      ]
     },
     "execution_count": 164,
     "metadata": {},
     "output_type": "execute_result"
    }
   ],
   "source": [
    "#2015.\n",
    "df_2015 = df[df[\"Ano\"] == 2015]\n",
    "df_2015.groupby([\"Ano\", \"Produto\"])[\"ValorVenda\"].sum().reset_index().sort_values(by = \"ValorVenda\",  ascending = False)"
   ]
  },
  {
   "cell_type": "markdown",
   "metadata": {},
   "source": [
    "# Conclusão"
   ]
  },
  {
   "cell_type": "markdown",
   "metadata": {},
   "source": [
    "Em suma, a análise dos dados da empresa revelou áreas críticas que necessitam de atenção imediata para garantir sua sustentabilidade e promover um crescimento robusto. A gestão inadequada das margens de lucro e as quedas nas vendas de produtos eletrônicos e eletroportáteis destacam a urgência de reavaliações estratégicas.\n",
    "\n",
    "A implementação de ajustes nos preços, aliada a uma análise competitiva e à reformulação das estratégias de marketing, é fundamental para restaurar a saúde financeira dos produtos. Além disso, a investigação das causas por trás da queda nas vendas em 2014 permitirá à empresa entender melhor as dinâmicas do mercado e adaptar suas abordagens de forma proativa.\n",
    "\n",
    "Ao focar na coleta e análise de dados para informar decisões estratégicas, a empresa estará mais bem equipada para enfrentar os desafios atuais e futuros, assegurando sua competitividade e alinhamento com as tendências do mercado. Com essas medidas corretivas, a empresa poderá não apenas recuperar seu desempenho, mas também estabelecer uma base sólida para um crescimento sustentável a longo prazo."
   ]
  },
  {
   "cell_type": "markdown",
   "metadata": {},
   "source": [
    "&nbsp;"
   ]
  },
  {
   "cell_type": "markdown",
   "metadata": {},
   "source": [
    "# ![Varejo](https://img.freepik.com/fotos-premium/empresario-mostrando-a-evolucao-dos-negocios-com-um-grafico_1057126-157.jpg?w=1800)"
   ]
  }
 ],
 "metadata": {
  "kernelspec": {
   "display_name": "Python 3",
   "language": "python",
   "name": "python3"
  },
  "language_info": {
   "codemirror_mode": {
    "name": "ipython",
    "version": 3
   },
   "file_extension": ".py",
   "mimetype": "text/x-python",
   "name": "python",
   "nbconvert_exporter": "python",
   "pygments_lexer": "ipython3",
   "version": "3.12.4"
  }
 },
 "nbformat": 4,
 "nbformat_minor": 2
}
